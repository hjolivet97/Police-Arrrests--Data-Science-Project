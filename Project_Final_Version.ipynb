{
 "cells": [
  {
   "cell_type": "code",
   "execution_count": 28,
   "metadata": {},
   "outputs": [
    {
     "name": "stdout",
     "output_type": "stream",
     "text": [
      "Populating the interactive namespace from numpy and matplotlib\n"
     ]
    }
   ],
   "source": [
    "#import modules and packages\n",
    "\n",
    "import pandas as pd\n",
    "import numpy as np\n",
    "import seaborn as sns\n",
    "%pylab inline\n",
    "import sklearn as sk\n",
    "import sklearn.tree as tree\n",
    "from IPython.display import Image  \n",
    "import pydotplus\n",
    "import sklearn.tree\n",
    "\n",
    "# print all the outputs in a cell\n",
    "from IPython.core.interactiveshell import InteractiveShell\n",
    "InteractiveShell.ast_node_interactivity = \"all\""
   ]
  },
  {
   "cell_type": "code",
   "execution_count": 29,
   "metadata": {},
   "outputs": [],
   "source": [
    "import warnings\n",
    "#suppress all future warning\n",
    "warnings.filterwarnings('ignore')\n",
    "#see only one time warning\n",
    "#warnings.filterwarnings(action='once')"
   ]
  },
  {
   "cell_type": "code",
   "execution_count": 30,
   "metadata": {},
   "outputs": [],
   "source": [
    "#import data\n",
    "\n",
    "df = pd.read_csv('Officer_Traffic_Stops.csv')"
   ]
  },
  {
   "cell_type": "markdown",
   "metadata": {},
   "source": [
    "# <div class = \"alert alert-block alert-success\"> DATA DESCRIPTION</div>"
   ]
  },
  {
   "cell_type": "markdown",
   "metadata": {},
   "source": [
    "## Traffic Stops in Charlotte, North Carolina 2016-2017"
   ]
  },
  {
   "cell_type": "markdown",
   "metadata": {},
   "source": [
    "In this data set is information gathered about traffic stops and violations in Charlotte, North Carolina each month in 2016 and 2017. This data set offers insight into common trends and patterns that contribute to traffic stops in Charlotte. Each entry in the data set represents one individual traffic stop during that month and year and gives us the following information:\n",
    "* Driver and Officer Race\n",
    "* Driver and Officer Gender\n",
    "* Driver Age\n",
    "* Driver Ethnicity\n",
    "* Officer Experience (Years)\n",
    "* Reason for stop\n",
    "* Result of Stop\n",
    "* Search Conducted\n",
    "\n",
    "For the cleaned up version of this data set, 1.0 represents True for the 'Searched' column and all of the various Reason and Result, and Race columns, and 1.0 represents Male for the gender columns.\n",
    "\n",
    "* 1.0 = True/Male\n",
    "* 0.0 = False/Female\n",
    " \n"
   ]
  },
  {
   "cell_type": "code",
   "execution_count": 31,
   "metadata": {},
   "outputs": [
    {
     "data": {
      "text/html": [
       "<div>\n",
       "<style scoped>\n",
       "    .dataframe tbody tr th:only-of-type {\n",
       "        vertical-align: middle;\n",
       "    }\n",
       "\n",
       "    .dataframe tbody tr th {\n",
       "        vertical-align: top;\n",
       "    }\n",
       "\n",
       "    .dataframe thead th {\n",
       "        text-align: right;\n",
       "    }\n",
       "</style>\n",
       "<table border=\"1\" class=\"dataframe\">\n",
       "  <thead>\n",
       "    <tr style=\"text-align: right;\">\n",
       "      <th></th>\n",
       "      <th>Month_of_Stop</th>\n",
       "      <th>Reason_for_Stop</th>\n",
       "      <th>Officer_Race</th>\n",
       "      <th>Officer_Gender</th>\n",
       "      <th>Officer_Years_of_Service</th>\n",
       "      <th>Driver_Race</th>\n",
       "      <th>Driver_Ethnicity</th>\n",
       "      <th>Driver_Gender</th>\n",
       "      <th>Driver_Age</th>\n",
       "      <th>Was_a_Search_Conducted</th>\n",
       "      <th>Result_of_Stop</th>\n",
       "    </tr>\n",
       "  </thead>\n",
       "  <tbody>\n",
       "    <tr>\n",
       "      <td>0</td>\n",
       "      <td>2017/08</td>\n",
       "      <td>Vehicle Regulatory</td>\n",
       "      <td>White</td>\n",
       "      <td>Male</td>\n",
       "      <td>2</td>\n",
       "      <td>Black</td>\n",
       "      <td>Non-Hispanic</td>\n",
       "      <td>Male</td>\n",
       "      <td>25</td>\n",
       "      <td>No</td>\n",
       "      <td>Citation Issued</td>\n",
       "    </tr>\n",
       "    <tr>\n",
       "      <td>1</td>\n",
       "      <td>2017/08</td>\n",
       "      <td>Vehicle Regulatory</td>\n",
       "      <td>White</td>\n",
       "      <td>Male</td>\n",
       "      <td>2</td>\n",
       "      <td>White</td>\n",
       "      <td>Non-Hispanic</td>\n",
       "      <td>Male</td>\n",
       "      <td>25</td>\n",
       "      <td>No</td>\n",
       "      <td>Citation Issued</td>\n",
       "    </tr>\n",
       "    <tr>\n",
       "      <td>2</td>\n",
       "      <td>2017/08</td>\n",
       "      <td>Speeding</td>\n",
       "      <td>Hispanic/Latino</td>\n",
       "      <td>Male</td>\n",
       "      <td>6</td>\n",
       "      <td>Black</td>\n",
       "      <td>Non-Hispanic</td>\n",
       "      <td>Male</td>\n",
       "      <td>54</td>\n",
       "      <td>No</td>\n",
       "      <td>Verbal Warning</td>\n",
       "    </tr>\n",
       "    <tr>\n",
       "      <td>3</td>\n",
       "      <td>2017/08</td>\n",
       "      <td>Speeding</td>\n",
       "      <td>Hispanic/Latino</td>\n",
       "      <td>Male</td>\n",
       "      <td>6</td>\n",
       "      <td>Black</td>\n",
       "      <td>Non-Hispanic</td>\n",
       "      <td>Male</td>\n",
       "      <td>25</td>\n",
       "      <td>No</td>\n",
       "      <td>Verbal Warning</td>\n",
       "    </tr>\n",
       "    <tr>\n",
       "      <td>4</td>\n",
       "      <td>2017/08</td>\n",
       "      <td>Vehicle Regulatory</td>\n",
       "      <td>Hispanic/Latino</td>\n",
       "      <td>Male</td>\n",
       "      <td>2</td>\n",
       "      <td>Black</td>\n",
       "      <td>Non-Hispanic</td>\n",
       "      <td>Male</td>\n",
       "      <td>26</td>\n",
       "      <td>No</td>\n",
       "      <td>Citation Issued</td>\n",
       "    </tr>\n",
       "  </tbody>\n",
       "</table>\n",
       "</div>"
      ],
      "text/plain": [
       "  Month_of_Stop            Reason_for_Stop     Officer_Race Officer_Gender  \\\n",
       "0       2017/08  Vehicle Regulatory                   White           Male   \n",
       "1       2017/08  Vehicle Regulatory                   White           Male   \n",
       "2       2017/08  Speeding                   Hispanic/Latino           Male   \n",
       "3       2017/08  Speeding                   Hispanic/Latino           Male   \n",
       "4       2017/08  Vehicle Regulatory         Hispanic/Latino           Male   \n",
       "\n",
       "   Officer_Years_of_Service Driver_Race Driver_Ethnicity Driver_Gender  \\\n",
       "0                         2       Black     Non-Hispanic          Male   \n",
       "1                         2       White     Non-Hispanic          Male   \n",
       "2                         6       Black     Non-Hispanic          Male   \n",
       "3                         6       Black     Non-Hispanic          Male   \n",
       "4                         2       Black     Non-Hispanic          Male   \n",
       "\n",
       "   Driver_Age Was_a_Search_Conducted   Result_of_Stop  \n",
       "0          25                     No  Citation Issued  \n",
       "1          25                     No  Citation Issued  \n",
       "2          54                     No   Verbal Warning  \n",
       "3          25                     No   Verbal Warning  \n",
       "4          26                     No  Citation Issued  "
      ]
     },
     "execution_count": 31,
     "metadata": {},
     "output_type": "execute_result"
    }
   ],
   "source": [
    "df.head()"
   ]
  },
  {
   "cell_type": "code",
   "execution_count": 32,
   "metadata": {},
   "outputs": [
    {
     "data": {
      "text/plain": [
       "78272"
      ]
     },
     "execution_count": 32,
     "metadata": {},
     "output_type": "execute_result"
    }
   ],
   "source": [
    "#finding the length of the dataframe\n",
    "\n",
    "len1 = len(df)\n",
    "len1"
   ]
  },
  {
   "cell_type": "markdown",
   "metadata": {},
   "source": [
    "## <div class=\"alert alert-block alert-info\"> DATA CLEANING </div>"
   ]
  },
  {
   "cell_type": "code",
   "execution_count": 33,
   "metadata": {
    "scrolled": true
   },
   "outputs": [
    {
     "data": {
      "text/plain": [
       "Index(['Month_of_Stop', 'Reason_for_Stop', 'Officer_Race', 'Officer_Gender',\n",
       "       'Officer_Years_of_Service', 'Driver_Race', 'Driver_Ethnicity',\n",
       "       'Driver_Gender', 'Driver_Age', 'Was_a_Search_Conducted',\n",
       "       'Result_of_Stop'],\n",
       "      dtype='object')"
      ]
     },
     "execution_count": 33,
     "metadata": {},
     "output_type": "execute_result"
    }
   ],
   "source": [
    "#listing all columns\n",
    "\n",
    "df.columns"
   ]
  },
  {
   "cell_type": "code",
   "execution_count": 34,
   "metadata": {},
   "outputs": [],
   "source": [
    "#renaming columns\n",
    "\n",
    "df.rename(columns = {'Month_of_Stop':'Year_Month', 'Officer_Years_of_Service':'Officer_Experience',\\\n",
    "                     'Reason_for_Stop':'Reason', 'Was_a_Search_Conducted':'Searched','Result_of_Stop'\\\n",
    "                     :'Result', 'Driver_Ethnicity':'Driver_Hispanic'}, inplace=True)"
   ]
  },
  {
   "cell_type": "code",
   "execution_count": 35,
   "metadata": {
    "scrolled": true
   },
   "outputs": [],
   "source": [
    "#set 'Year_Month' as index\n",
    "\n",
    "df = df.set_index('Year_Month')"
   ]
  },
  {
   "cell_type": "code",
   "execution_count": 36,
   "metadata": {},
   "outputs": [
    {
     "data": {
      "text/html": [
       "<div>\n",
       "<style scoped>\n",
       "    .dataframe tbody tr th:only-of-type {\n",
       "        vertical-align: middle;\n",
       "    }\n",
       "\n",
       "    .dataframe tbody tr th {\n",
       "        vertical-align: top;\n",
       "    }\n",
       "\n",
       "    .dataframe thead th {\n",
       "        text-align: right;\n",
       "    }\n",
       "</style>\n",
       "<table border=\"1\" class=\"dataframe\">\n",
       "  <thead>\n",
       "    <tr style=\"text-align: right;\">\n",
       "      <th></th>\n",
       "      <th>Reason</th>\n",
       "      <th>Officer_Race</th>\n",
       "      <th>Officer_Gender</th>\n",
       "      <th>Officer_Experience</th>\n",
       "      <th>Driver_Race</th>\n",
       "      <th>Driver_Hispanic</th>\n",
       "      <th>Driver_Gender</th>\n",
       "      <th>Driver_Age</th>\n",
       "      <th>Searched</th>\n",
       "      <th>Result</th>\n",
       "    </tr>\n",
       "    <tr>\n",
       "      <th>Year_Month</th>\n",
       "      <th></th>\n",
       "      <th></th>\n",
       "      <th></th>\n",
       "      <th></th>\n",
       "      <th></th>\n",
       "      <th></th>\n",
       "      <th></th>\n",
       "      <th></th>\n",
       "      <th></th>\n",
       "      <th></th>\n",
       "    </tr>\n",
       "  </thead>\n",
       "  <tbody>\n",
       "    <tr>\n",
       "      <td>2017/08</td>\n",
       "      <td>Vehicle Regulatory</td>\n",
       "      <td>White</td>\n",
       "      <td>Male</td>\n",
       "      <td>2</td>\n",
       "      <td>Black</td>\n",
       "      <td>Non-Hispanic</td>\n",
       "      <td>Male</td>\n",
       "      <td>25</td>\n",
       "      <td>No</td>\n",
       "      <td>Citation Issued</td>\n",
       "    </tr>\n",
       "    <tr>\n",
       "      <td>2017/08</td>\n",
       "      <td>Vehicle Regulatory</td>\n",
       "      <td>White</td>\n",
       "      <td>Male</td>\n",
       "      <td>2</td>\n",
       "      <td>White</td>\n",
       "      <td>Non-Hispanic</td>\n",
       "      <td>Male</td>\n",
       "      <td>25</td>\n",
       "      <td>No</td>\n",
       "      <td>Citation Issued</td>\n",
       "    </tr>\n",
       "    <tr>\n",
       "      <td>2017/08</td>\n",
       "      <td>Speeding</td>\n",
       "      <td>Hispanic/Latino</td>\n",
       "      <td>Male</td>\n",
       "      <td>6</td>\n",
       "      <td>Black</td>\n",
       "      <td>Non-Hispanic</td>\n",
       "      <td>Male</td>\n",
       "      <td>54</td>\n",
       "      <td>No</td>\n",
       "      <td>Verbal Warning</td>\n",
       "    </tr>\n",
       "    <tr>\n",
       "      <td>2017/08</td>\n",
       "      <td>Speeding</td>\n",
       "      <td>Hispanic/Latino</td>\n",
       "      <td>Male</td>\n",
       "      <td>6</td>\n",
       "      <td>Black</td>\n",
       "      <td>Non-Hispanic</td>\n",
       "      <td>Male</td>\n",
       "      <td>25</td>\n",
       "      <td>No</td>\n",
       "      <td>Verbal Warning</td>\n",
       "    </tr>\n",
       "    <tr>\n",
       "      <td>2017/08</td>\n",
       "      <td>Vehicle Regulatory</td>\n",
       "      <td>Hispanic/Latino</td>\n",
       "      <td>Male</td>\n",
       "      <td>2</td>\n",
       "      <td>Black</td>\n",
       "      <td>Non-Hispanic</td>\n",
       "      <td>Male</td>\n",
       "      <td>26</td>\n",
       "      <td>No</td>\n",
       "      <td>Citation Issued</td>\n",
       "    </tr>\n",
       "  </tbody>\n",
       "</table>\n",
       "</div>"
      ],
      "text/plain": [
       "                               Reason     Officer_Race Officer_Gender  \\\n",
       "Year_Month                                                              \n",
       "2017/08     Vehicle Regulatory                   White           Male   \n",
       "2017/08     Vehicle Regulatory                   White           Male   \n",
       "2017/08     Speeding                   Hispanic/Latino           Male   \n",
       "2017/08     Speeding                   Hispanic/Latino           Male   \n",
       "2017/08     Vehicle Regulatory         Hispanic/Latino           Male   \n",
       "\n",
       "            Officer_Experience Driver_Race Driver_Hispanic Driver_Gender  \\\n",
       "Year_Month                                                                 \n",
       "2017/08                      2       Black    Non-Hispanic          Male   \n",
       "2017/08                      2       White    Non-Hispanic          Male   \n",
       "2017/08                      6       Black    Non-Hispanic          Male   \n",
       "2017/08                      6       Black    Non-Hispanic          Male   \n",
       "2017/08                      2       Black    Non-Hispanic          Male   \n",
       "\n",
       "            Driver_Age Searched           Result  \n",
       "Year_Month                                        \n",
       "2017/08             25       No  Citation Issued  \n",
       "2017/08             25       No  Citation Issued  \n",
       "2017/08             54       No   Verbal Warning  \n",
       "2017/08             25       No   Verbal Warning  \n",
       "2017/08             26       No  Citation Issued  "
      ]
     },
     "execution_count": 36,
     "metadata": {},
     "output_type": "execute_result"
    }
   ],
   "source": [
    "#checking index\n",
    "\n",
    "df.head()"
   ]
  },
  {
   "cell_type": "code",
   "execution_count": 37,
   "metadata": {},
   "outputs": [
    {
     "data": {
      "text/plain": [
       "Reason                False\n",
       "Officer_Race          False\n",
       "Officer_Gender        False\n",
       "Officer_Experience    False\n",
       "Driver_Race           False\n",
       "Driver_Hispanic       False\n",
       "Driver_Gender         False\n",
       "Driver_Age            False\n",
       "Searched              False\n",
       "Result                False\n",
       "dtype: bool"
      ]
     },
     "execution_count": 37,
     "metadata": {},
     "output_type": "execute_result"
    }
   ],
   "source": [
    "#NaN check\n",
    "\n",
    "df.isna().any()"
   ]
  },
  {
   "cell_type": "code",
   "execution_count": 38,
   "metadata": {},
   "outputs": [
    {
     "name": "stdout",
     "output_type": "stream",
     "text": [
      "Reason :  [False False False False False False False False False False]\n",
      "Officer_Race :  [ True False False False False False False False False]\n",
      "Officer_Gender :  [False False]\n",
      "Officer_Experience :  False\n",
      "Driver_Race :  [False False False False False]\n",
      "Driver_Hispanic :  [False False]\n",
      "Driver_Gender :  [False False]\n",
      "Driver_Age :  False\n",
      "Searched :  [False False]\n",
      "Result :  [False False False False False]\n"
     ]
    }
   ],
   "source": [
    "#check for blank values\n",
    "\n",
    "for c in df.columns:\n",
    "    print(c, \": \", df.groupby(c).size().index == ' ')"
   ]
  },
  {
   "cell_type": "code",
   "execution_count": 39,
   "metadata": {},
   "outputs": [
    {
     "data": {
      "text/plain": [
       "Officer_Race\n",
       "                                    338\n",
       "2 or More                            80\n",
       "American Indian/Alaska Native       215\n",
       "Asian / Pacific Islander           4620\n",
       "Black/African American            13194\n",
       "Hispanic/Latino                    3468\n",
       "Native Hawaiian/Oth Pac Island       69\n",
       "Not Specified                       647\n",
       "White                             55641\n",
       "dtype: int64"
      ]
     },
     "execution_count": 39,
     "metadata": {},
     "output_type": "execute_result"
    }
   ],
   "source": [
    "#groupby Officer_Race to find the size of each to find how many rows are blank\n",
    "\n",
    "df.groupby('Officer_Race').size()"
   ]
  },
  {
   "cell_type": "code",
   "execution_count": 40,
   "metadata": {},
   "outputs": [],
   "source": [
    "#removing all Officer_Race inputs that are blank\n",
    "\n",
    "df = df[df.Officer_Race != ' ']"
   ]
  },
  {
   "cell_type": "code",
   "execution_count": 41,
   "metadata": {},
   "outputs": [
    {
     "data": {
      "text/plain": [
       "Officer_Race\n",
       "2 or More                            80\n",
       "American Indian/Alaska Native       215\n",
       "Asian / Pacific Islander           4620\n",
       "Black/African American            13194\n",
       "Hispanic/Latino                    3468\n",
       "Native Hawaiian/Oth Pac Island       69\n",
       "Not Specified                       647\n",
       "White                             55641\n",
       "dtype: int64"
      ]
     },
     "execution_count": 41,
     "metadata": {},
     "output_type": "execute_result"
    }
   ],
   "source": [
    "#checking\n",
    "\n",
    "df.groupby('Officer_Race').size()"
   ]
  },
  {
   "cell_type": "code",
   "execution_count": 42,
   "metadata": {},
   "outputs": [
    {
     "data": {
      "text/plain": [
       "array(['Vehicle Regulatory       ', 'White', 'Male', 2, 'Black',\n",
       "       'Non-Hispanic', 'Male', 25, 'No', 'Citation Issued'], dtype=object)"
      ]
     },
     "execution_count": 42,
     "metadata": {},
     "output_type": "execute_result"
    }
   ],
   "source": [
    "#checking the format of inputs\n",
    "\n",
    "df.iloc[0].values"
   ]
  },
  {
   "cell_type": "code",
   "execution_count": 43,
   "metadata": {},
   "outputs": [],
   "source": [
    "#removing white space before and after values\n",
    "\n",
    "df = df.apply(lambda x: x.str.strip() if x.dtype == \"object\" else x)"
   ]
  },
  {
   "cell_type": "code",
   "execution_count": 44,
   "metadata": {},
   "outputs": [
    {
     "data": {
      "text/plain": [
       "array(['Vehicle Regulatory', 'White', 'Male', 2, 'Black', 'Non-Hispanic',\n",
       "       'Male', 25, 'No', 'Citation Issued'], dtype=object)"
      ]
     },
     "execution_count": 44,
     "metadata": {},
     "output_type": "execute_result"
    }
   ],
   "source": [
    "#checking the operation\n",
    "\n",
    "df.iloc[0].values"
   ]
  },
  {
   "cell_type": "code",
   "execution_count": 45,
   "metadata": {},
   "outputs": [
    {
     "name": "stdout",
     "output_type": "stream",
     "text": [
      "Reason: 10\n",
      "Officer_Race: 8\n",
      "Officer_Gender: 2\n",
      "Officer_Experience: 31\n",
      "Driver_Race: 5\n",
      "Driver_Hispanic: 2\n",
      "Driver_Gender: 2\n",
      "Driver_Age: 86\n",
      "Searched: 2\n",
      "Result: 5\n"
     ]
    }
   ],
   "source": [
    "#finding the unique values of each column\n",
    "\n",
    "for c in df.columns:\n",
    "    print(c + ': ' + str(df[c].nunique()) )"
   ]
  },
  {
   "cell_type": "code",
   "execution_count": 46,
   "metadata": {},
   "outputs": [
    {
     "data": {
      "text/plain": [
       "77934"
      ]
     },
     "execution_count": 46,
     "metadata": {},
     "output_type": "execute_result"
    }
   ],
   "source": [
    "#finding length of dataframe\n",
    "\n",
    "len2 = len(df)\n",
    "len2"
   ]
  },
  {
   "cell_type": "code",
   "execution_count": 47,
   "metadata": {},
   "outputs": [
    {
     "data": {
      "text/plain": [
       "338"
      ]
     },
     "execution_count": 47,
     "metadata": {},
     "output_type": "execute_result"
    }
   ],
   "source": [
    "#finding total dropped rows\n",
    "\n",
    "len_diff = len1 - len2\n",
    "len_diff"
   ]
  },
  {
   "cell_type": "code",
   "execution_count": 48,
   "metadata": {},
   "outputs": [
    {
     "name": "stdout",
     "output_type": "stream",
     "text": [
      "Dropped 0.43 %\n"
     ]
    }
   ],
   "source": [
    "#find percentage of dropped rows\n",
    "\n",
    "print(\"Dropped\", round(((len_diff/len1)*100),2),\"%\")"
   ]
  },
  {
   "cell_type": "code",
   "execution_count": 49,
   "metadata": {},
   "outputs": [],
   "source": [
    "#create seperate data set for machine learning process\n",
    "\n",
    "dfML = df.copy()"
   ]
  },
  {
   "cell_type": "code",
   "execution_count": 50,
   "metadata": {},
   "outputs": [
    {
     "data": {
      "text/html": [
       "<div>\n",
       "<style scoped>\n",
       "    .dataframe tbody tr th:only-of-type {\n",
       "        vertical-align: middle;\n",
       "    }\n",
       "\n",
       "    .dataframe tbody tr th {\n",
       "        vertical-align: top;\n",
       "    }\n",
       "\n",
       "    .dataframe thead th {\n",
       "        text-align: right;\n",
       "    }\n",
       "</style>\n",
       "<table border=\"1\" class=\"dataframe\">\n",
       "  <thead>\n",
       "    <tr style=\"text-align: right;\">\n",
       "      <th></th>\n",
       "      <th>Reason</th>\n",
       "      <th>Officer_Race</th>\n",
       "      <th>Officer_Gender</th>\n",
       "      <th>Officer_Experience</th>\n",
       "      <th>Driver_Race</th>\n",
       "      <th>Driver_Hispanic</th>\n",
       "      <th>Driver_Gender</th>\n",
       "      <th>Driver_Age</th>\n",
       "      <th>Searched</th>\n",
       "      <th>Result</th>\n",
       "    </tr>\n",
       "    <tr>\n",
       "      <th>Year_Month</th>\n",
       "      <th></th>\n",
       "      <th></th>\n",
       "      <th></th>\n",
       "      <th></th>\n",
       "      <th></th>\n",
       "      <th></th>\n",
       "      <th></th>\n",
       "      <th></th>\n",
       "      <th></th>\n",
       "      <th></th>\n",
       "    </tr>\n",
       "  </thead>\n",
       "  <tbody>\n",
       "    <tr>\n",
       "      <td>2017/08</td>\n",
       "      <td>Vehicle Regulatory</td>\n",
       "      <td>White</td>\n",
       "      <td>Male</td>\n",
       "      <td>2</td>\n",
       "      <td>Black</td>\n",
       "      <td>Non-Hispanic</td>\n",
       "      <td>Male</td>\n",
       "      <td>25</td>\n",
       "      <td>No</td>\n",
       "      <td>Citation Issued</td>\n",
       "    </tr>\n",
       "  </tbody>\n",
       "</table>\n",
       "</div>"
      ],
      "text/plain": [
       "                        Reason Officer_Race Officer_Gender  \\\n",
       "Year_Month                                                   \n",
       "2017/08     Vehicle Regulatory        White           Male   \n",
       "\n",
       "            Officer_Experience Driver_Race Driver_Hispanic Driver_Gender  \\\n",
       "Year_Month                                                                 \n",
       "2017/08                      2       Black    Non-Hispanic          Male   \n",
       "\n",
       "            Driver_Age Searched           Result  \n",
       "Year_Month                                        \n",
       "2017/08             25       No  Citation Issued  "
      ]
     },
     "execution_count": 50,
     "metadata": {},
     "output_type": "execute_result"
    }
   ],
   "source": [
    "#checking data\n",
    "\n",
    "dfML.head(1)"
   ]
  },
  {
   "cell_type": "code",
   "execution_count": 51,
   "metadata": {},
   "outputs": [],
   "source": [
    "#replace yes and no with 1 and 0\n",
    "\n",
    "dfML.replace(to_replace='Yes', value=1.0, inplace=True)\n",
    "dfML.replace(to_replace='No', value=0.0, inplace=True)"
   ]
  },
  {
   "cell_type": "code",
   "execution_count": 52,
   "metadata": {},
   "outputs": [
    {
     "data": {
      "text/html": [
       "<div>\n",
       "<style scoped>\n",
       "    .dataframe tbody tr th:only-of-type {\n",
       "        vertical-align: middle;\n",
       "    }\n",
       "\n",
       "    .dataframe tbody tr th {\n",
       "        vertical-align: top;\n",
       "    }\n",
       "\n",
       "    .dataframe thead th {\n",
       "        text-align: right;\n",
       "    }\n",
       "</style>\n",
       "<table border=\"1\" class=\"dataframe\">\n",
       "  <thead>\n",
       "    <tr style=\"text-align: right;\">\n",
       "      <th></th>\n",
       "      <th>Reason</th>\n",
       "      <th>Officer_Race</th>\n",
       "      <th>Officer_Gender</th>\n",
       "      <th>Officer_Experience</th>\n",
       "      <th>Driver_Race</th>\n",
       "      <th>Driver_Hispanic</th>\n",
       "      <th>Driver_Gender</th>\n",
       "      <th>Driver_Age</th>\n",
       "      <th>Searched</th>\n",
       "      <th>Result</th>\n",
       "    </tr>\n",
       "    <tr>\n",
       "      <th>Year_Month</th>\n",
       "      <th></th>\n",
       "      <th></th>\n",
       "      <th></th>\n",
       "      <th></th>\n",
       "      <th></th>\n",
       "      <th></th>\n",
       "      <th></th>\n",
       "      <th></th>\n",
       "      <th></th>\n",
       "      <th></th>\n",
       "    </tr>\n",
       "  </thead>\n",
       "  <tbody>\n",
       "    <tr>\n",
       "      <td>2017/08</td>\n",
       "      <td>Vehicle Regulatory</td>\n",
       "      <td>White</td>\n",
       "      <td>Male</td>\n",
       "      <td>2</td>\n",
       "      <td>Black</td>\n",
       "      <td>Non-Hispanic</td>\n",
       "      <td>Male</td>\n",
       "      <td>25</td>\n",
       "      <td>0.0</td>\n",
       "      <td>Citation Issued</td>\n",
       "    </tr>\n",
       "  </tbody>\n",
       "</table>\n",
       "</div>"
      ],
      "text/plain": [
       "                        Reason Officer_Race Officer_Gender  \\\n",
       "Year_Month                                                   \n",
       "2017/08     Vehicle Regulatory        White           Male   \n",
       "\n",
       "            Officer_Experience Driver_Race Driver_Hispanic Driver_Gender  \\\n",
       "Year_Month                                                                 \n",
       "2017/08                      2       Black    Non-Hispanic          Male   \n",
       "\n",
       "            Driver_Age  Searched           Result  \n",
       "Year_Month                                         \n",
       "2017/08             25       0.0  Citation Issued  "
      ]
     },
     "execution_count": 52,
     "metadata": {},
     "output_type": "execute_result"
    }
   ],
   "source": [
    "#checking the replace\n",
    "\n",
    "dfML.head(1)"
   ]
  },
  {
   "cell_type": "code",
   "execution_count": 53,
   "metadata": {},
   "outputs": [],
   "source": [
    "#replace male and female with 1 and 0\n",
    "\n",
    "dfML.replace(to_replace='Male', value=1.0, inplace=True)\n",
    "dfML.replace(to_replace='Female', value=0.0, inplace=True)"
   ]
  },
  {
   "cell_type": "code",
   "execution_count": 54,
   "metadata": {},
   "outputs": [
    {
     "data": {
      "text/html": [
       "<div>\n",
       "<style scoped>\n",
       "    .dataframe tbody tr th:only-of-type {\n",
       "        vertical-align: middle;\n",
       "    }\n",
       "\n",
       "    .dataframe tbody tr th {\n",
       "        vertical-align: top;\n",
       "    }\n",
       "\n",
       "    .dataframe thead th {\n",
       "        text-align: right;\n",
       "    }\n",
       "</style>\n",
       "<table border=\"1\" class=\"dataframe\">\n",
       "  <thead>\n",
       "    <tr style=\"text-align: right;\">\n",
       "      <th></th>\n",
       "      <th>Reason</th>\n",
       "      <th>Officer_Race</th>\n",
       "      <th>Officer_Gender</th>\n",
       "      <th>Officer_Experience</th>\n",
       "      <th>Driver_Race</th>\n",
       "      <th>Driver_Hispanic</th>\n",
       "      <th>Driver_Gender</th>\n",
       "      <th>Driver_Age</th>\n",
       "      <th>Searched</th>\n",
       "      <th>Result</th>\n",
       "    </tr>\n",
       "    <tr>\n",
       "      <th>Year_Month</th>\n",
       "      <th></th>\n",
       "      <th></th>\n",
       "      <th></th>\n",
       "      <th></th>\n",
       "      <th></th>\n",
       "      <th></th>\n",
       "      <th></th>\n",
       "      <th></th>\n",
       "      <th></th>\n",
       "      <th></th>\n",
       "    </tr>\n",
       "  </thead>\n",
       "  <tbody>\n",
       "    <tr>\n",
       "      <td>2017/08</td>\n",
       "      <td>Vehicle Regulatory</td>\n",
       "      <td>White</td>\n",
       "      <td>1.0</td>\n",
       "      <td>2</td>\n",
       "      <td>Black</td>\n",
       "      <td>Non-Hispanic</td>\n",
       "      <td>1.0</td>\n",
       "      <td>25</td>\n",
       "      <td>0.0</td>\n",
       "      <td>Citation Issued</td>\n",
       "    </tr>\n",
       "  </tbody>\n",
       "</table>\n",
       "</div>"
      ],
      "text/plain": [
       "                        Reason Officer_Race  Officer_Gender  \\\n",
       "Year_Month                                                    \n",
       "2017/08     Vehicle Regulatory        White             1.0   \n",
       "\n",
       "            Officer_Experience Driver_Race Driver_Hispanic  Driver_Gender  \\\n",
       "Year_Month                                                                  \n",
       "2017/08                      2       Black    Non-Hispanic            1.0   \n",
       "\n",
       "            Driver_Age  Searched           Result  \n",
       "Year_Month                                         \n",
       "2017/08             25       0.0  Citation Issued  "
      ]
     },
     "execution_count": 54,
     "metadata": {},
     "output_type": "execute_result"
    }
   ],
   "source": [
    "#checking the replace\n",
    "\n",
    "dfML.head(1)"
   ]
  },
  {
   "cell_type": "code",
   "execution_count": 55,
   "metadata": {},
   "outputs": [],
   "source": [
    "#replace hispanic and non-hispanic with 1 and 0\n",
    "\n",
    "dfML.replace(to_replace='Hispanic', value=1.0, inplace=True)\n",
    "dfML.replace(to_replace='Non-Hispanic', value=0.0, inplace=True)"
   ]
  },
  {
   "cell_type": "code",
   "execution_count": 56,
   "metadata": {},
   "outputs": [
    {
     "data": {
      "text/html": [
       "<div>\n",
       "<style scoped>\n",
       "    .dataframe tbody tr th:only-of-type {\n",
       "        vertical-align: middle;\n",
       "    }\n",
       "\n",
       "    .dataframe tbody tr th {\n",
       "        vertical-align: top;\n",
       "    }\n",
       "\n",
       "    .dataframe thead th {\n",
       "        text-align: right;\n",
       "    }\n",
       "</style>\n",
       "<table border=\"1\" class=\"dataframe\">\n",
       "  <thead>\n",
       "    <tr style=\"text-align: right;\">\n",
       "      <th></th>\n",
       "      <th>Reason</th>\n",
       "      <th>Officer_Race</th>\n",
       "      <th>Officer_Gender</th>\n",
       "      <th>Officer_Experience</th>\n",
       "      <th>Driver_Race</th>\n",
       "      <th>Driver_Hispanic</th>\n",
       "      <th>Driver_Gender</th>\n",
       "      <th>Driver_Age</th>\n",
       "      <th>Searched</th>\n",
       "      <th>Result</th>\n",
       "    </tr>\n",
       "    <tr>\n",
       "      <th>Year_Month</th>\n",
       "      <th></th>\n",
       "      <th></th>\n",
       "      <th></th>\n",
       "      <th></th>\n",
       "      <th></th>\n",
       "      <th></th>\n",
       "      <th></th>\n",
       "      <th></th>\n",
       "      <th></th>\n",
       "      <th></th>\n",
       "    </tr>\n",
       "  </thead>\n",
       "  <tbody>\n",
       "    <tr>\n",
       "      <td>2017/08</td>\n",
       "      <td>Vehicle Regulatory</td>\n",
       "      <td>White</td>\n",
       "      <td>1.0</td>\n",
       "      <td>2</td>\n",
       "      <td>Black</td>\n",
       "      <td>0.0</td>\n",
       "      <td>1.0</td>\n",
       "      <td>25</td>\n",
       "      <td>0.0</td>\n",
       "      <td>Citation Issued</td>\n",
       "    </tr>\n",
       "  </tbody>\n",
       "</table>\n",
       "</div>"
      ],
      "text/plain": [
       "                        Reason Officer_Race  Officer_Gender  \\\n",
       "Year_Month                                                    \n",
       "2017/08     Vehicle Regulatory        White             1.0   \n",
       "\n",
       "            Officer_Experience Driver_Race  Driver_Hispanic  Driver_Gender  \\\n",
       "Year_Month                                                                   \n",
       "2017/08                      2       Black              0.0            1.0   \n",
       "\n",
       "            Driver_Age  Searched           Result  \n",
       "Year_Month                                         \n",
       "2017/08             25       0.0  Citation Issued  "
      ]
     },
     "execution_count": 56,
     "metadata": {},
     "output_type": "execute_result"
    }
   ],
   "source": [
    "#checking the replace\n",
    "\n",
    "dfML.head(1)"
   ]
  },
  {
   "cell_type": "code",
   "execution_count": 57,
   "metadata": {
    "scrolled": true
   },
   "outputs": [
    {
     "data": {
      "text/html": [
       "<div>\n",
       "<style scoped>\n",
       "    .dataframe tbody tr th:only-of-type {\n",
       "        vertical-align: middle;\n",
       "    }\n",
       "\n",
       "    .dataframe tbody tr th {\n",
       "        vertical-align: top;\n",
       "    }\n",
       "\n",
       "    .dataframe thead th {\n",
       "        text-align: right;\n",
       "    }\n",
       "</style>\n",
       "<table border=\"1\" class=\"dataframe\">\n",
       "  <thead>\n",
       "    <tr style=\"text-align: right;\">\n",
       "      <th></th>\n",
       "      <th>Officer_Gender</th>\n",
       "      <th>Officer_Experience</th>\n",
       "      <th>Driver_Hispanic</th>\n",
       "      <th>Driver_Gender</th>\n",
       "      <th>Driver_Age</th>\n",
       "      <th>Searched</th>\n",
       "      <th>Reason_CheckPoint</th>\n",
       "      <th>Reason_Driving While Impaired</th>\n",
       "      <th>Reason_Investigation</th>\n",
       "      <th>Reason_Other</th>\n",
       "      <th>...</th>\n",
       "      <th>Driver_Race_Other/Unknown</th>\n",
       "      <th>Driver_Race_White</th>\n",
       "      <th>Officer_Race_2 or More</th>\n",
       "      <th>Officer_Race_American Indian/Alaska Native</th>\n",
       "      <th>Officer_Race_Asian / Pacific Islander</th>\n",
       "      <th>Officer_Race_Black/African American</th>\n",
       "      <th>Officer_Race_Hispanic/Latino</th>\n",
       "      <th>Officer_Race_Native Hawaiian/Oth Pac Island</th>\n",
       "      <th>Officer_Race_Not Specified</th>\n",
       "      <th>Officer_Race_White</th>\n",
       "    </tr>\n",
       "    <tr>\n",
       "      <th>Year_Month</th>\n",
       "      <th></th>\n",
       "      <th></th>\n",
       "      <th></th>\n",
       "      <th></th>\n",
       "      <th></th>\n",
       "      <th></th>\n",
       "      <th></th>\n",
       "      <th></th>\n",
       "      <th></th>\n",
       "      <th></th>\n",
       "      <th></th>\n",
       "      <th></th>\n",
       "      <th></th>\n",
       "      <th></th>\n",
       "      <th></th>\n",
       "      <th></th>\n",
       "      <th></th>\n",
       "      <th></th>\n",
       "      <th></th>\n",
       "      <th></th>\n",
       "      <th></th>\n",
       "    </tr>\n",
       "  </thead>\n",
       "  <tbody>\n",
       "    <tr>\n",
       "      <td>2017/08</td>\n",
       "      <td>1.0</td>\n",
       "      <td>2</td>\n",
       "      <td>0.0</td>\n",
       "      <td>1.0</td>\n",
       "      <td>25</td>\n",
       "      <td>0.0</td>\n",
       "      <td>0</td>\n",
       "      <td>0</td>\n",
       "      <td>0</td>\n",
       "      <td>0</td>\n",
       "      <td>...</td>\n",
       "      <td>0</td>\n",
       "      <td>0</td>\n",
       "      <td>0</td>\n",
       "      <td>0</td>\n",
       "      <td>0</td>\n",
       "      <td>0</td>\n",
       "      <td>0</td>\n",
       "      <td>0</td>\n",
       "      <td>0</td>\n",
       "      <td>1</td>\n",
       "    </tr>\n",
       "    <tr>\n",
       "      <td>2017/08</td>\n",
       "      <td>1.0</td>\n",
       "      <td>2</td>\n",
       "      <td>0.0</td>\n",
       "      <td>1.0</td>\n",
       "      <td>25</td>\n",
       "      <td>0.0</td>\n",
       "      <td>0</td>\n",
       "      <td>0</td>\n",
       "      <td>0</td>\n",
       "      <td>0</td>\n",
       "      <td>...</td>\n",
       "      <td>0</td>\n",
       "      <td>1</td>\n",
       "      <td>0</td>\n",
       "      <td>0</td>\n",
       "      <td>0</td>\n",
       "      <td>0</td>\n",
       "      <td>0</td>\n",
       "      <td>0</td>\n",
       "      <td>0</td>\n",
       "      <td>1</td>\n",
       "    </tr>\n",
       "    <tr>\n",
       "      <td>2017/08</td>\n",
       "      <td>1.0</td>\n",
       "      <td>6</td>\n",
       "      <td>0.0</td>\n",
       "      <td>1.0</td>\n",
       "      <td>54</td>\n",
       "      <td>0.0</td>\n",
       "      <td>0</td>\n",
       "      <td>0</td>\n",
       "      <td>0</td>\n",
       "      <td>0</td>\n",
       "      <td>...</td>\n",
       "      <td>0</td>\n",
       "      <td>0</td>\n",
       "      <td>0</td>\n",
       "      <td>0</td>\n",
       "      <td>0</td>\n",
       "      <td>0</td>\n",
       "      <td>1</td>\n",
       "      <td>0</td>\n",
       "      <td>0</td>\n",
       "      <td>0</td>\n",
       "    </tr>\n",
       "    <tr>\n",
       "      <td>2017/08</td>\n",
       "      <td>1.0</td>\n",
       "      <td>6</td>\n",
       "      <td>0.0</td>\n",
       "      <td>1.0</td>\n",
       "      <td>25</td>\n",
       "      <td>0.0</td>\n",
       "      <td>0</td>\n",
       "      <td>0</td>\n",
       "      <td>0</td>\n",
       "      <td>0</td>\n",
       "      <td>...</td>\n",
       "      <td>0</td>\n",
       "      <td>0</td>\n",
       "      <td>0</td>\n",
       "      <td>0</td>\n",
       "      <td>0</td>\n",
       "      <td>0</td>\n",
       "      <td>1</td>\n",
       "      <td>0</td>\n",
       "      <td>0</td>\n",
       "      <td>0</td>\n",
       "    </tr>\n",
       "    <tr>\n",
       "      <td>2017/08</td>\n",
       "      <td>1.0</td>\n",
       "      <td>2</td>\n",
       "      <td>0.0</td>\n",
       "      <td>1.0</td>\n",
       "      <td>26</td>\n",
       "      <td>0.0</td>\n",
       "      <td>0</td>\n",
       "      <td>0</td>\n",
       "      <td>0</td>\n",
       "      <td>0</td>\n",
       "      <td>...</td>\n",
       "      <td>0</td>\n",
       "      <td>0</td>\n",
       "      <td>0</td>\n",
       "      <td>0</td>\n",
       "      <td>0</td>\n",
       "      <td>0</td>\n",
       "      <td>1</td>\n",
       "      <td>0</td>\n",
       "      <td>0</td>\n",
       "      <td>0</td>\n",
       "    </tr>\n",
       "  </tbody>\n",
       "</table>\n",
       "<p>5 rows × 34 columns</p>\n",
       "</div>"
      ],
      "text/plain": [
       "            Officer_Gender  Officer_Experience  Driver_Hispanic  \\\n",
       "Year_Month                                                        \n",
       "2017/08                1.0                   2              0.0   \n",
       "2017/08                1.0                   2              0.0   \n",
       "2017/08                1.0                   6              0.0   \n",
       "2017/08                1.0                   6              0.0   \n",
       "2017/08                1.0                   2              0.0   \n",
       "\n",
       "            Driver_Gender  Driver_Age  Searched  Reason_CheckPoint  \\\n",
       "Year_Month                                                           \n",
       "2017/08               1.0          25       0.0                  0   \n",
       "2017/08               1.0          25       0.0                  0   \n",
       "2017/08               1.0          54       0.0                  0   \n",
       "2017/08               1.0          25       0.0                  0   \n",
       "2017/08               1.0          26       0.0                  0   \n",
       "\n",
       "            Reason_Driving While Impaired  Reason_Investigation  Reason_Other  \\\n",
       "Year_Month                                                                      \n",
       "2017/08                                 0                     0             0   \n",
       "2017/08                                 0                     0             0   \n",
       "2017/08                                 0                     0             0   \n",
       "2017/08                                 0                     0             0   \n",
       "2017/08                                 0                     0             0   \n",
       "\n",
       "            ...  Driver_Race_Other/Unknown  Driver_Race_White  \\\n",
       "Year_Month  ...                                                 \n",
       "2017/08     ...                          0                  0   \n",
       "2017/08     ...                          0                  1   \n",
       "2017/08     ...                          0                  0   \n",
       "2017/08     ...                          0                  0   \n",
       "2017/08     ...                          0                  0   \n",
       "\n",
       "            Officer_Race_2 or More  \\\n",
       "Year_Month                           \n",
       "2017/08                          0   \n",
       "2017/08                          0   \n",
       "2017/08                          0   \n",
       "2017/08                          0   \n",
       "2017/08                          0   \n",
       "\n",
       "            Officer_Race_American Indian/Alaska Native  \\\n",
       "Year_Month                                               \n",
       "2017/08                                              0   \n",
       "2017/08                                              0   \n",
       "2017/08                                              0   \n",
       "2017/08                                              0   \n",
       "2017/08                                              0   \n",
       "\n",
       "            Officer_Race_Asian / Pacific Islander  \\\n",
       "Year_Month                                          \n",
       "2017/08                                         0   \n",
       "2017/08                                         0   \n",
       "2017/08                                         0   \n",
       "2017/08                                         0   \n",
       "2017/08                                         0   \n",
       "\n",
       "            Officer_Race_Black/African American  Officer_Race_Hispanic/Latino  \\\n",
       "Year_Month                                                                      \n",
       "2017/08                                       0                             0   \n",
       "2017/08                                       0                             0   \n",
       "2017/08                                       0                             1   \n",
       "2017/08                                       0                             1   \n",
       "2017/08                                       0                             1   \n",
       "\n",
       "            Officer_Race_Native Hawaiian/Oth Pac Island  \\\n",
       "Year_Month                                                \n",
       "2017/08                                               0   \n",
       "2017/08                                               0   \n",
       "2017/08                                               0   \n",
       "2017/08                                               0   \n",
       "2017/08                                               0   \n",
       "\n",
       "            Officer_Race_Not Specified  Officer_Race_White  \n",
       "Year_Month                                                  \n",
       "2017/08                              0                   1  \n",
       "2017/08                              0                   1  \n",
       "2017/08                              0                   0  \n",
       "2017/08                              0                   0  \n",
       "2017/08                              0                   0  \n",
       "\n",
       "[5 rows x 34 columns]"
      ]
     },
     "execution_count": 57,
     "metadata": {},
     "output_type": "execute_result"
    }
   ],
   "source": [
    "#create dummy variables\n",
    "\n",
    "DumbDF = pd.get_dummies(dfML, columns=['Reason','Result', 'Driver_Race', 'Officer_Race'])\n",
    "DumbDF.head()"
   ]
  },
  {
   "cell_type": "code",
   "execution_count": 58,
   "metadata": {},
   "outputs": [
    {
     "data": {
      "text/plain": [
       "Index(['Officer_Gender', 'Officer_Experience', 'Driver_Hispanic',\n",
       "       'Driver_Gender', 'Driver_Age', 'Searched', 'Reason_CheckPoint',\n",
       "       'Reason_Driving While Impaired', 'Reason_Investigation', 'Reason_Other',\n",
       "       'Reason_Safe Movement', 'Reason_SeatBelt', 'Reason_Speeding',\n",
       "       'Reason_Stop Light/Sign', 'Reason_Vehicle Equipment',\n",
       "       'Reason_Vehicle Regulatory', 'Result_Arrest', 'Result_Citation Issued',\n",
       "       'Result_No Action Taken', 'Result_Verbal Warning',\n",
       "       'Result_Written Warning', 'Driver_Race_Asian', 'Driver_Race_Black',\n",
       "       'Driver_Race_Native American', 'Driver_Race_Other/Unknown',\n",
       "       'Driver_Race_White', 'Officer_Race_2 or More',\n",
       "       'Officer_Race_American Indian/Alaska Native',\n",
       "       'Officer_Race_Asian / Pacific Islander',\n",
       "       'Officer_Race_Black/African American', 'Officer_Race_Hispanic/Latino',\n",
       "       'Officer_Race_Native Hawaiian/Oth Pac Island',\n",
       "       'Officer_Race_Not Specified', 'Officer_Race_White'],\n",
       "      dtype='object')"
      ]
     },
     "execution_count": 58,
     "metadata": {},
     "output_type": "execute_result"
    }
   ],
   "source": [
    "#validating columns\n",
    "\n",
    "DumbDF.columns"
   ]
  },
  {
   "cell_type": "code",
   "execution_count": 59,
   "metadata": {},
   "outputs": [],
   "source": [
    "#renaming dummy columns\n",
    "\n",
    "DumbDF.rename(columns = {'Result_Citation Issued':'Result_Citation_Issued', 'Reason_Driving While Impaired':\\\n",
    "                         'Reason_Driving_Impaired','Reason_Safe Movement':'Reason_Safe_Movement',\\\n",
    "                         'Reason_Stop Light/Sign':'Reason_Stop_Light/Sign','Reason_Vehicle Equipment'\\\n",
    "                         :'Reason_Vehicle_Equipment', 'Reason_Vehicle Regulatory':'Reason_Vehicle_Regulatory',\\\n",
    "                         'Result_No Action Taken':'Result_No_Action_Taken', 'Result_Verbal Warning':\\\n",
    "                         'Result_Verbal_Warning', 'Result_Written Warning':'Result_Written_Warning',\\\n",
    "                         'Driver_Race_Native American':'Driver_Race_Native_American', 'Officer_Race_2 or More':\\\n",
    "                         'Officer_Race_2+', 'Officer_Race_American Indian/Alaska Native':\\\n",
    "                         'Officer_Race_Native_American', 'Officer_Race_Asian / Pacific Islander':\\\n",
    "                         'Officer_Race_Asian', 'Officer_Race_Black/African American':'Officer_Race_Black',\\\n",
    "                         'Officer_Race_Native Hawaiian/Oth Pac Island':'Officer_Race_Hawaiian',\\\n",
    "                         'Officer_Race_Not Specified':'Officer_Race_Not_Specified'\n",
    "                        }, inplace=True)"
   ]
  },
  {
   "cell_type": "code",
   "execution_count": 60,
   "metadata": {},
   "outputs": [
    {
     "data": {
      "text/html": [
       "<div>\n",
       "<style scoped>\n",
       "    .dataframe tbody tr th:only-of-type {\n",
       "        vertical-align: middle;\n",
       "    }\n",
       "\n",
       "    .dataframe tbody tr th {\n",
       "        vertical-align: top;\n",
       "    }\n",
       "\n",
       "    .dataframe thead th {\n",
       "        text-align: right;\n",
       "    }\n",
       "</style>\n",
       "<table border=\"1\" class=\"dataframe\">\n",
       "  <thead>\n",
       "    <tr style=\"text-align: right;\">\n",
       "      <th></th>\n",
       "      <th>Officer_Gender</th>\n",
       "      <th>Officer_Experience</th>\n",
       "      <th>Driver_Hispanic</th>\n",
       "      <th>Driver_Gender</th>\n",
       "      <th>Driver_Age</th>\n",
       "      <th>Searched</th>\n",
       "      <th>Reason_CheckPoint</th>\n",
       "      <th>Reason_Driving_Impaired</th>\n",
       "      <th>Reason_Investigation</th>\n",
       "      <th>Reason_Other</th>\n",
       "      <th>...</th>\n",
       "      <th>Driver_Race_Other/Unknown</th>\n",
       "      <th>Driver_Race_White</th>\n",
       "      <th>Officer_Race_2+</th>\n",
       "      <th>Officer_Race_Native_American</th>\n",
       "      <th>Officer_Race_Asian</th>\n",
       "      <th>Officer_Race_Black</th>\n",
       "      <th>Officer_Race_Hispanic/Latino</th>\n",
       "      <th>Officer_Race_Hawaiian</th>\n",
       "      <th>Officer_Race_Not_Specified</th>\n",
       "      <th>Officer_Race_White</th>\n",
       "    </tr>\n",
       "    <tr>\n",
       "      <th>Year_Month</th>\n",
       "      <th></th>\n",
       "      <th></th>\n",
       "      <th></th>\n",
       "      <th></th>\n",
       "      <th></th>\n",
       "      <th></th>\n",
       "      <th></th>\n",
       "      <th></th>\n",
       "      <th></th>\n",
       "      <th></th>\n",
       "      <th></th>\n",
       "      <th></th>\n",
       "      <th></th>\n",
       "      <th></th>\n",
       "      <th></th>\n",
       "      <th></th>\n",
       "      <th></th>\n",
       "      <th></th>\n",
       "      <th></th>\n",
       "      <th></th>\n",
       "      <th></th>\n",
       "    </tr>\n",
       "  </thead>\n",
       "  <tbody>\n",
       "    <tr>\n",
       "      <td>2017/08</td>\n",
       "      <td>1.0</td>\n",
       "      <td>2</td>\n",
       "      <td>0.0</td>\n",
       "      <td>1.0</td>\n",
       "      <td>25</td>\n",
       "      <td>0.0</td>\n",
       "      <td>0</td>\n",
       "      <td>0</td>\n",
       "      <td>0</td>\n",
       "      <td>0</td>\n",
       "      <td>...</td>\n",
       "      <td>0</td>\n",
       "      <td>0</td>\n",
       "      <td>0</td>\n",
       "      <td>0</td>\n",
       "      <td>0</td>\n",
       "      <td>0</td>\n",
       "      <td>0</td>\n",
       "      <td>0</td>\n",
       "      <td>0</td>\n",
       "      <td>1</td>\n",
       "    </tr>\n",
       "    <tr>\n",
       "      <td>2017/08</td>\n",
       "      <td>1.0</td>\n",
       "      <td>2</td>\n",
       "      <td>0.0</td>\n",
       "      <td>1.0</td>\n",
       "      <td>25</td>\n",
       "      <td>0.0</td>\n",
       "      <td>0</td>\n",
       "      <td>0</td>\n",
       "      <td>0</td>\n",
       "      <td>0</td>\n",
       "      <td>...</td>\n",
       "      <td>0</td>\n",
       "      <td>1</td>\n",
       "      <td>0</td>\n",
       "      <td>0</td>\n",
       "      <td>0</td>\n",
       "      <td>0</td>\n",
       "      <td>0</td>\n",
       "      <td>0</td>\n",
       "      <td>0</td>\n",
       "      <td>1</td>\n",
       "    </tr>\n",
       "    <tr>\n",
       "      <td>2017/08</td>\n",
       "      <td>1.0</td>\n",
       "      <td>6</td>\n",
       "      <td>0.0</td>\n",
       "      <td>1.0</td>\n",
       "      <td>54</td>\n",
       "      <td>0.0</td>\n",
       "      <td>0</td>\n",
       "      <td>0</td>\n",
       "      <td>0</td>\n",
       "      <td>0</td>\n",
       "      <td>...</td>\n",
       "      <td>0</td>\n",
       "      <td>0</td>\n",
       "      <td>0</td>\n",
       "      <td>0</td>\n",
       "      <td>0</td>\n",
       "      <td>0</td>\n",
       "      <td>1</td>\n",
       "      <td>0</td>\n",
       "      <td>0</td>\n",
       "      <td>0</td>\n",
       "    </tr>\n",
       "    <tr>\n",
       "      <td>2017/08</td>\n",
       "      <td>1.0</td>\n",
       "      <td>6</td>\n",
       "      <td>0.0</td>\n",
       "      <td>1.0</td>\n",
       "      <td>25</td>\n",
       "      <td>0.0</td>\n",
       "      <td>0</td>\n",
       "      <td>0</td>\n",
       "      <td>0</td>\n",
       "      <td>0</td>\n",
       "      <td>...</td>\n",
       "      <td>0</td>\n",
       "      <td>0</td>\n",
       "      <td>0</td>\n",
       "      <td>0</td>\n",
       "      <td>0</td>\n",
       "      <td>0</td>\n",
       "      <td>1</td>\n",
       "      <td>0</td>\n",
       "      <td>0</td>\n",
       "      <td>0</td>\n",
       "    </tr>\n",
       "    <tr>\n",
       "      <td>2017/08</td>\n",
       "      <td>1.0</td>\n",
       "      <td>2</td>\n",
       "      <td>0.0</td>\n",
       "      <td>1.0</td>\n",
       "      <td>26</td>\n",
       "      <td>0.0</td>\n",
       "      <td>0</td>\n",
       "      <td>0</td>\n",
       "      <td>0</td>\n",
       "      <td>0</td>\n",
       "      <td>...</td>\n",
       "      <td>0</td>\n",
       "      <td>0</td>\n",
       "      <td>0</td>\n",
       "      <td>0</td>\n",
       "      <td>0</td>\n",
       "      <td>0</td>\n",
       "      <td>1</td>\n",
       "      <td>0</td>\n",
       "      <td>0</td>\n",
       "      <td>0</td>\n",
       "    </tr>\n",
       "  </tbody>\n",
       "</table>\n",
       "<p>5 rows × 34 columns</p>\n",
       "</div>"
      ],
      "text/plain": [
       "            Officer_Gender  Officer_Experience  Driver_Hispanic  \\\n",
       "Year_Month                                                        \n",
       "2017/08                1.0                   2              0.0   \n",
       "2017/08                1.0                   2              0.0   \n",
       "2017/08                1.0                   6              0.0   \n",
       "2017/08                1.0                   6              0.0   \n",
       "2017/08                1.0                   2              0.0   \n",
       "\n",
       "            Driver_Gender  Driver_Age  Searched  Reason_CheckPoint  \\\n",
       "Year_Month                                                           \n",
       "2017/08               1.0          25       0.0                  0   \n",
       "2017/08               1.0          25       0.0                  0   \n",
       "2017/08               1.0          54       0.0                  0   \n",
       "2017/08               1.0          25       0.0                  0   \n",
       "2017/08               1.0          26       0.0                  0   \n",
       "\n",
       "            Reason_Driving_Impaired  Reason_Investigation  Reason_Other  ...  \\\n",
       "Year_Month                                                               ...   \n",
       "2017/08                           0                     0             0  ...   \n",
       "2017/08                           0                     0             0  ...   \n",
       "2017/08                           0                     0             0  ...   \n",
       "2017/08                           0                     0             0  ...   \n",
       "2017/08                           0                     0             0  ...   \n",
       "\n",
       "            Driver_Race_Other/Unknown  Driver_Race_White  Officer_Race_2+  \\\n",
       "Year_Month                                                                  \n",
       "2017/08                             0                  0                0   \n",
       "2017/08                             0                  1                0   \n",
       "2017/08                             0                  0                0   \n",
       "2017/08                             0                  0                0   \n",
       "2017/08                             0                  0                0   \n",
       "\n",
       "            Officer_Race_Native_American  Officer_Race_Asian  \\\n",
       "Year_Month                                                     \n",
       "2017/08                                0                   0   \n",
       "2017/08                                0                   0   \n",
       "2017/08                                0                   0   \n",
       "2017/08                                0                   0   \n",
       "2017/08                                0                   0   \n",
       "\n",
       "            Officer_Race_Black  Officer_Race_Hispanic/Latino  \\\n",
       "Year_Month                                                     \n",
       "2017/08                      0                             0   \n",
       "2017/08                      0                             0   \n",
       "2017/08                      0                             1   \n",
       "2017/08                      0                             1   \n",
       "2017/08                      0                             1   \n",
       "\n",
       "            Officer_Race_Hawaiian  Officer_Race_Not_Specified  \\\n",
       "Year_Month                                                      \n",
       "2017/08                         0                           0   \n",
       "2017/08                         0                           0   \n",
       "2017/08                         0                           0   \n",
       "2017/08                         0                           0   \n",
       "2017/08                         0                           0   \n",
       "\n",
       "            Officer_Race_White  \n",
       "Year_Month                      \n",
       "2017/08                      1  \n",
       "2017/08                      1  \n",
       "2017/08                      0  \n",
       "2017/08                      0  \n",
       "2017/08                      0  \n",
       "\n",
       "[5 rows x 34 columns]"
      ]
     },
     "execution_count": 60,
     "metadata": {},
     "output_type": "execute_result"
    }
   ],
   "source": [
    "#validating the rename\n",
    "\n",
    "DumbDF.head()"
   ]
  },
  {
   "cell_type": "code",
   "execution_count": 61,
   "metadata": {},
   "outputs": [],
   "source": [
    "#setting dfML equal to the DumbDF\n",
    "\n",
    "dfML = DumbDF"
   ]
  },
  {
   "cell_type": "code",
   "execution_count": 62,
   "metadata": {},
   "outputs": [
    {
     "data": {
      "text/plain": [
       "Officer_Gender                  0\n",
       "Officer_Experience              0\n",
       "Driver_Hispanic                 0\n",
       "Driver_Gender                   0\n",
       "Driver_Age                      0\n",
       "Searched                        0\n",
       "Reason_CheckPoint               0\n",
       "Reason_Driving_Impaired         0\n",
       "Reason_Investigation            0\n",
       "Reason_Other                    0\n",
       "Reason_Safe_Movement            0\n",
       "Reason_SeatBelt                 0\n",
       "Reason_Speeding                 0\n",
       "Reason_Stop_Light/Sign          0\n",
       "Reason_Vehicle_Equipment        0\n",
       "Reason_Vehicle_Regulatory       0\n",
       "Result_Arrest                   0\n",
       "Result_Citation_Issued          0\n",
       "Result_No_Action_Taken          0\n",
       "Result_Verbal_Warning           0\n",
       "Result_Written_Warning          0\n",
       "Driver_Race_Asian               0\n",
       "Driver_Race_Black               0\n",
       "Driver_Race_Native_American     0\n",
       "Driver_Race_Other/Unknown       0\n",
       "Driver_Race_White               0\n",
       "Officer_Race_2+                 0\n",
       "Officer_Race_Native_American    0\n",
       "Officer_Race_Asian              0\n",
       "Officer_Race_Black              0\n",
       "Officer_Race_Hispanic/Latino    0\n",
       "Officer_Race_Hawaiian           0\n",
       "Officer_Race_Not_Specified      0\n",
       "Officer_Race_White              0\n",
       "dtype: int64"
      ]
     },
     "execution_count": 62,
     "metadata": {},
     "output_type": "execute_result"
    }
   ],
   "source": [
    "#Checking for NaN values\n",
    "\n",
    "dfML.isna().sum()"
   ]
  },
  {
   "cell_type": "code",
   "execution_count": 63,
   "metadata": {},
   "outputs": [
    {
     "data": {
      "text/plain": [
       "Index(['Officer_Gender', 'Officer_Experience', 'Driver_Hispanic',\n",
       "       'Driver_Gender', 'Driver_Age', 'Searched', 'Reason_CheckPoint',\n",
       "       'Reason_Driving_Impaired', 'Reason_Investigation', 'Reason_Other',\n",
       "       'Reason_Safe_Movement', 'Reason_SeatBelt', 'Reason_Speeding',\n",
       "       'Reason_Stop_Light/Sign', 'Reason_Vehicle_Equipment',\n",
       "       'Reason_Vehicle_Regulatory', 'Result_Arrest', 'Result_Citation_Issued',\n",
       "       'Result_No_Action_Taken', 'Result_Verbal_Warning',\n",
       "       'Result_Written_Warning', 'Driver_Race_Asian', 'Driver_Race_Black',\n",
       "       'Driver_Race_Native_American', 'Driver_Race_Other/Unknown',\n",
       "       'Driver_Race_White', 'Officer_Race_2+', 'Officer_Race_Native_American',\n",
       "       'Officer_Race_Asian', 'Officer_Race_Black',\n",
       "       'Officer_Race_Hispanic/Latino', 'Officer_Race_Hawaiian',\n",
       "       'Officer_Race_Not_Specified', 'Officer_Race_White'],\n",
       "      dtype='object')"
      ]
     },
     "execution_count": 63,
     "metadata": {},
     "output_type": "execute_result"
    }
   ],
   "source": [
    "#checking column names\n",
    "\n",
    "dfML.columns"
   ]
  },
  {
   "cell_type": "code",
   "execution_count": 64,
   "metadata": {
    "scrolled": true
   },
   "outputs": [
    {
     "data": {
      "text/plain": [
       "(77934, 34)"
      ]
     },
     "execution_count": 64,
     "metadata": {},
     "output_type": "execute_result"
    }
   ],
   "source": [
    "#structure of shape\n",
    "\n",
    "dfML.shape"
   ]
  },
  {
   "cell_type": "code",
   "execution_count": 65,
   "metadata": {},
   "outputs": [
    {
     "data": {
      "text/plain": [
       "(77934, 10)"
      ]
     },
     "execution_count": 65,
     "metadata": {},
     "output_type": "execute_result"
    }
   ],
   "source": [
    "#original df shape\n",
    "\n",
    "df.shape"
   ]
  },
  {
   "cell_type": "markdown",
   "metadata": {},
   "source": [
    "# <div class=\"alert alert-block alert-info\"> DATA FINDINGS </div>"
   ]
  },
  {
   "cell_type": "markdown",
   "metadata": {},
   "source": [
    "## <div class=\"alert alert-block alert-success\"> DATA FINDING #1 </div>"
   ]
  },
  {
   "cell_type": "markdown",
   "metadata": {},
   "source": [
    "we want to use clustering to find a relationship between officer experience and driver race on arrests"
   ]
  },
  {
   "cell_type": "code",
   "execution_count": 66,
   "metadata": {},
   "outputs": [
    {
     "data": {
      "text/plain": [
       "KMeans(algorithm='auto', copy_x=True, init='k-means++', max_iter=300,\n",
       "       n_clusters=3, n_init=10, n_jobs=None, precompute_distances='auto',\n",
       "       random_state=0, tol=0.0001, verbose=0)"
      ]
     },
     "execution_count": 66,
     "metadata": {},
     "output_type": "execute_result"
    }
   ],
   "source": [
    "#3 clusters\n",
    "\n",
    "from sklearn.cluster import KMeans\n",
    "clu = KMeans(n_clusters=3, random_state=0)\n",
    "clu.fit(dfML)"
   ]
  },
  {
   "cell_type": "code",
   "execution_count": 67,
   "metadata": {},
   "outputs": [
    {
     "data": {
      "text/plain": [
       "array([2, 2, 1, ..., 2, 2, 2], dtype=int32)"
      ]
     },
     "execution_count": 67,
     "metadata": {},
     "output_type": "execute_result"
    }
   ],
   "source": [
    "#cluster labels (0-2)\n",
    "\n",
    "clu.labels_"
   ]
  },
  {
   "cell_type": "code",
   "execution_count": 68,
   "metadata": {
    "scrolled": true
   },
   "outputs": [
    {
     "data": {
      "text/html": [
       "<div>\n",
       "<style scoped>\n",
       "    .dataframe tbody tr th:only-of-type {\n",
       "        vertical-align: middle;\n",
       "    }\n",
       "\n",
       "    .dataframe tbody tr th {\n",
       "        vertical-align: top;\n",
       "    }\n",
       "\n",
       "    .dataframe thead th {\n",
       "        text-align: right;\n",
       "    }\n",
       "</style>\n",
       "<table border=\"1\" class=\"dataframe\">\n",
       "  <thead>\n",
       "    <tr style=\"text-align: right;\">\n",
       "      <th></th>\n",
       "      <th>Officer_Gender</th>\n",
       "      <th>Officer_Experience</th>\n",
       "      <th>Driver_Hispanic</th>\n",
       "      <th>Driver_Gender</th>\n",
       "      <th>Driver_Age</th>\n",
       "      <th>Searched</th>\n",
       "      <th>Reason_CheckPoint</th>\n",
       "      <th>Reason_Driving_Impaired</th>\n",
       "      <th>Reason_Investigation</th>\n",
       "      <th>Reason_Other</th>\n",
       "      <th>...</th>\n",
       "      <th>Driver_Race_Other/Unknown</th>\n",
       "      <th>Driver_Race_White</th>\n",
       "      <th>Officer_Race_2+</th>\n",
       "      <th>Officer_Race_Native_American</th>\n",
       "      <th>Officer_Race_Asian</th>\n",
       "      <th>Officer_Race_Black</th>\n",
       "      <th>Officer_Race_Hispanic/Latino</th>\n",
       "      <th>Officer_Race_Hawaiian</th>\n",
       "      <th>Officer_Race_Not_Specified</th>\n",
       "      <th>Officer_Race_White</th>\n",
       "    </tr>\n",
       "    <tr>\n",
       "      <th>cluster</th>\n",
       "      <th></th>\n",
       "      <th></th>\n",
       "      <th></th>\n",
       "      <th></th>\n",
       "      <th></th>\n",
       "      <th></th>\n",
       "      <th></th>\n",
       "      <th></th>\n",
       "      <th></th>\n",
       "      <th></th>\n",
       "      <th></th>\n",
       "      <th></th>\n",
       "      <th></th>\n",
       "      <th></th>\n",
       "      <th></th>\n",
       "      <th></th>\n",
       "      <th></th>\n",
       "      <th></th>\n",
       "      <th></th>\n",
       "      <th></th>\n",
       "      <th></th>\n",
       "    </tr>\n",
       "  </thead>\n",
       "  <tbody>\n",
       "    <tr>\n",
       "      <td>0</td>\n",
       "      <td>0.944186</td>\n",
       "      <td>20.370909</td>\n",
       "      <td>0.120582</td>\n",
       "      <td>0.537829</td>\n",
       "      <td>30.389392</td>\n",
       "      <td>0.015969</td>\n",
       "      <td>0.004974</td>\n",
       "      <td>0.001361</td>\n",
       "      <td>0.024399</td>\n",
       "      <td>0.032672</td>\n",
       "      <td>...</td>\n",
       "      <td>0.037332</td>\n",
       "      <td>0.446673</td>\n",
       "      <td>0.000000</td>\n",
       "      <td>0.001361</td>\n",
       "      <td>0.077439</td>\n",
       "      <td>0.178596</td>\n",
       "      <td>0.016702</td>\n",
       "      <td>0.000000</td>\n",
       "      <td>0.004712</td>\n",
       "      <td>0.721190</td>\n",
       "    </tr>\n",
       "    <tr>\n",
       "      <td>1</td>\n",
       "      <td>0.914005</td>\n",
       "      <td>10.879141</td>\n",
       "      <td>0.067581</td>\n",
       "      <td>0.595659</td>\n",
       "      <td>52.553164</td>\n",
       "      <td>0.018963</td>\n",
       "      <td>0.002193</td>\n",
       "      <td>0.001416</td>\n",
       "      <td>0.019922</td>\n",
       "      <td>0.023623</td>\n",
       "      <td>...</td>\n",
       "      <td>0.025040</td>\n",
       "      <td>0.455198</td>\n",
       "      <td>0.000960</td>\n",
       "      <td>0.002422</td>\n",
       "      <td>0.060498</td>\n",
       "      <td>0.180169</td>\n",
       "      <td>0.041444</td>\n",
       "      <td>0.000457</td>\n",
       "      <td>0.006306</td>\n",
       "      <td>0.707745</td>\n",
       "    </tr>\n",
       "    <tr>\n",
       "      <td>2</td>\n",
       "      <td>0.898539</td>\n",
       "      <td>5.385007</td>\n",
       "      <td>0.112612</td>\n",
       "      <td>0.607524</td>\n",
       "      <td>28.392585</td>\n",
       "      <td>0.074127</td>\n",
       "      <td>0.003708</td>\n",
       "      <td>0.001434</td>\n",
       "      <td>0.023681</td>\n",
       "      <td>0.017754</td>\n",
       "      <td>...</td>\n",
       "      <td>0.029093</td>\n",
       "      <td>0.337185</td>\n",
       "      <td>0.001597</td>\n",
       "      <td>0.003681</td>\n",
       "      <td>0.049175</td>\n",
       "      <td>0.158051</td>\n",
       "      <td>0.060677</td>\n",
       "      <td>0.001597</td>\n",
       "      <td>0.011340</td>\n",
       "      <td>0.713884</td>\n",
       "    </tr>\n",
       "  </tbody>\n",
       "</table>\n",
       "<p>3 rows × 34 columns</p>\n",
       "</div>"
      ],
      "text/plain": [
       "         Officer_Gender  Officer_Experience  Driver_Hispanic  Driver_Gender  \\\n",
       "cluster                                                                       \n",
       "0              0.944186           20.370909         0.120582       0.537829   \n",
       "1              0.914005           10.879141         0.067581       0.595659   \n",
       "2              0.898539            5.385007         0.112612       0.607524   \n",
       "\n",
       "         Driver_Age  Searched  Reason_CheckPoint  Reason_Driving_Impaired  \\\n",
       "cluster                                                                     \n",
       "0         30.389392  0.015969           0.004974                 0.001361   \n",
       "1         52.553164  0.018963           0.002193                 0.001416   \n",
       "2         28.392585  0.074127           0.003708                 0.001434   \n",
       "\n",
       "         Reason_Investigation  Reason_Other  ...  Driver_Race_Other/Unknown  \\\n",
       "cluster                                      ...                              \n",
       "0                    0.024399      0.032672  ...                   0.037332   \n",
       "1                    0.019922      0.023623  ...                   0.025040   \n",
       "2                    0.023681      0.017754  ...                   0.029093   \n",
       "\n",
       "         Driver_Race_White  Officer_Race_2+  Officer_Race_Native_American  \\\n",
       "cluster                                                                     \n",
       "0                 0.446673         0.000000                      0.001361   \n",
       "1                 0.455198         0.000960                      0.002422   \n",
       "2                 0.337185         0.001597                      0.003681   \n",
       "\n",
       "         Officer_Race_Asian  Officer_Race_Black  Officer_Race_Hispanic/Latino  \\\n",
       "cluster                                                                         \n",
       "0                  0.077439            0.178596                      0.016702   \n",
       "1                  0.060498            0.180169                      0.041444   \n",
       "2                  0.049175            0.158051                      0.060677   \n",
       "\n",
       "         Officer_Race_Hawaiian  Officer_Race_Not_Specified  Officer_Race_White  \n",
       "cluster                                                                         \n",
       "0                     0.000000                    0.004712            0.721190  \n",
       "1                     0.000457                    0.006306            0.707745  \n",
       "2                     0.001597                    0.011340            0.713884  \n",
       "\n",
       "[3 rows x 34 columns]"
      ]
     },
     "execution_count": 68,
     "metadata": {},
     "output_type": "execute_result"
    }
   ],
   "source": [
    "#setting df2 equal to dfML and adding cluster as column\n",
    "\n",
    "df2=pd.DataFrame.copy(dfML)\n",
    "df2['cluster'] = clu.labels_\n",
    "df2.groupby('cluster').mean()"
   ]
  },
  {
   "cell_type": "code",
   "execution_count": 69,
   "metadata": {
    "scrolled": true
   },
   "outputs": [
    {
     "data": {
      "text/plain": [
       "cluster\n",
       "0    0.496571\n",
       "1    0.498195\n",
       "2    0.618133\n",
       "Name: Driver_Race_Black, dtype: float64"
      ]
     },
     "execution_count": 69,
     "metadata": {},
     "output_type": "execute_result"
    }
   ],
   "source": [
    "#groupby cluster on Black Drivers\n",
    "\n",
    "df2.groupby('cluster')['Driver_Race_Black'].mean()"
   ]
  },
  {
   "cell_type": "code",
   "execution_count": 70,
   "metadata": {
    "scrolled": true
   },
   "outputs": [
    {
     "data": {
      "text/plain": [
       "Officer_Gender                  0.008185\n",
       "Officer_Experience             -0.050964\n",
       "Driver_Hispanic                 0.001135\n",
       "Driver_Gender                   0.060841\n",
       "Driver_Age                     -0.051141\n",
       "Searched                        0.442931\n",
       "Reason_CheckPoint               0.010870\n",
       "Reason_Driving_Impaired         0.196318\n",
       "Reason_Investigation            0.110723\n",
       "Reason_Other                    0.023947\n",
       "Reason_Safe_Movement            0.003958\n",
       "Reason_SeatBelt                 0.001505\n",
       "Reason_Speeding                -0.051033\n",
       "Reason_Stop_Light/Sign         -0.017781\n",
       "Reason_Vehicle_Equipment        0.012679\n",
       "Reason_Vehicle_Regulatory      -0.011265\n",
       "Result_Arrest                   1.000000\n",
       "Result_Citation_Issued         -0.113568\n",
       "Result_No_Action_Taken         -0.021492\n",
       "Result_Verbal_Warning          -0.154204\n",
       "Result_Written_Warning         -0.032934\n",
       "Driver_Race_Asian              -0.009086\n",
       "Driver_Race_Black               0.045988\n",
       "Driver_Race_Native_American    -0.003826\n",
       "Driver_Race_Other/Unknown      -0.017606\n",
       "Driver_Race_White              -0.037934\n",
       "Officer_Race_2+                -0.004657\n",
       "Officer_Race_Native_American    0.002675\n",
       "Officer_Race_Asian             -0.009357\n",
       "Officer_Race_Black             -0.023263\n",
       "Officer_Race_Hispanic/Latino    0.003635\n",
       "Officer_Race_Hawaiian          -0.004325\n",
       "Officer_Race_Not_Specified      0.005591\n",
       "Officer_Race_White              0.021717\n",
       "cluster                         0.055996\n",
       "Name: Result_Arrest, dtype: float64"
      ]
     },
     "execution_count": 70,
     "metadata": {},
     "output_type": "execute_result"
    }
   ],
   "source": [
    "#check to see if there are any high correlations for arrests - there are not so no need to drop\n",
    "\n",
    "df2.corr().loc['Result_Arrest']"
   ]
  },
  {
   "cell_type": "code",
   "execution_count": 71,
   "metadata": {
    "scrolled": true
   },
   "outputs": [
    {
     "data": {
      "text/html": [
       "<div>\n",
       "<style scoped>\n",
       "    .dataframe tbody tr th:only-of-type {\n",
       "        vertical-align: middle;\n",
       "    }\n",
       "\n",
       "    .dataframe tbody tr th {\n",
       "        vertical-align: top;\n",
       "    }\n",
       "\n",
       "    .dataframe thead tr th {\n",
       "        text-align: left;\n",
       "    }\n",
       "\n",
       "    .dataframe thead tr:last-of-type th {\n",
       "        text-align: right;\n",
       "    }\n",
       "</style>\n",
       "<table border=\"1\" class=\"dataframe\">\n",
       "  <thead>\n",
       "    <tr>\n",
       "      <th></th>\n",
       "      <th></th>\n",
       "      <th colspan=\"2\" halign=\"left\">Result_Arrest</th>\n",
       "      <th colspan=\"2\" halign=\"left\">Result_No_Action_Taken</th>\n",
       "    </tr>\n",
       "    <tr>\n",
       "      <th></th>\n",
       "      <th></th>\n",
       "      <th>size</th>\n",
       "      <th>mean</th>\n",
       "      <th>size</th>\n",
       "      <th>mean</th>\n",
       "    </tr>\n",
       "    <tr>\n",
       "      <th>Inexperienced</th>\n",
       "      <th>Black_Driver</th>\n",
       "      <th></th>\n",
       "      <th></th>\n",
       "      <th></th>\n",
       "      <th></th>\n",
       "    </tr>\n",
       "  </thead>\n",
       "  <tbody>\n",
       "    <tr>\n",
       "      <td rowspan=\"2\" valign=\"top\">False</td>\n",
       "      <td>False</td>\n",
       "      <td>16880</td>\n",
       "      <td>0.009360</td>\n",
       "      <td>16880</td>\n",
       "      <td>0.019491</td>\n",
       "    </tr>\n",
       "    <tr>\n",
       "      <td>True</td>\n",
       "      <td>15385</td>\n",
       "      <td>0.015275</td>\n",
       "      <td>15385</td>\n",
       "      <td>0.022814</td>\n",
       "    </tr>\n",
       "    <tr>\n",
       "      <td rowspan=\"2\" valign=\"top\">True</td>\n",
       "      <td>False</td>\n",
       "      <td>17827</td>\n",
       "      <td>0.017165</td>\n",
       "      <td>17827</td>\n",
       "      <td>0.020811</td>\n",
       "    </tr>\n",
       "    <tr>\n",
       "      <td>True</td>\n",
       "      <td>27842</td>\n",
       "      <td>0.032756</td>\n",
       "      <td>27842</td>\n",
       "      <td>0.022197</td>\n",
       "    </tr>\n",
       "  </tbody>\n",
       "</table>\n",
       "</div>"
      ],
      "text/plain": [
       "                           Result_Arrest           Result_No_Action_Taken  \\\n",
       "                                    size      mean                   size   \n",
       "Inexperienced Black_Driver                                                  \n",
       "False         False                16880  0.009360                  16880   \n",
       "              True                 15385  0.015275                  15385   \n",
       "True          False                17827  0.017165                  17827   \n",
       "              True                 27842  0.032756                  27842   \n",
       "\n",
       "                                      \n",
       "                                mean  \n",
       "Inexperienced Black_Driver            \n",
       "False         False         0.019491  \n",
       "              True          0.022814  \n",
       "True          False         0.020811  \n",
       "              True          0.022197  "
      ]
     },
     "execution_count": 71,
     "metadata": {},
     "output_type": "execute_result"
    }
   ],
   "source": [
    "#create df3 and define inexperienced cop as having less than 10 years of service\n",
    "\n",
    "df3= df2.copy()\n",
    "df3['Inexperienced']=(df3['Officer_Experience']<=10.0)\n",
    "df3['Black_Driver']=(df3['Driver_Race_Black']>=.5)\n",
    "df3.groupby(['Inexperienced','Black_Driver']).agg({'Result_Arrest' : ['size', 'mean'], 'Result_No_Action_Taken' : ['size', 'mean']})"
   ]
  },
  {
   "cell_type": "code",
   "execution_count": 72,
   "metadata": {
    "scrolled": true
   },
   "outputs": [
    {
     "data": {
      "text/plain": [
       "<seaborn.axisgrid.FacetGrid at 0x1a26c29250>"
      ]
     },
     "execution_count": 72,
     "metadata": {},
     "output_type": "execute_result"
    },
    {
     "data": {
      "image/png": "[encoded data removed]",
      "text/plain": [
       "<Figure size 820.625x360 with 1 Axes>"
      ]
     },
     "metadata": {
      "needs_background": "light"
     },
     "output_type": "display_data"
    }
   ],
   "source": [
    "#bar plot\n",
    "\n",
    "sns.catplot(x='Inexperienced', y='Result_Arrest', hue='Driver_Race_Black', data=df3, kind='bar', aspect=2)"
   ]
  },
  {
   "cell_type": "code",
   "execution_count": 73,
   "metadata": {},
   "outputs": [],
   "source": [
    "#adding a binned_age column to work with\n",
    "\n",
    "df3['binned_experience'] = pd.cut(df2.Officer_Experience,bins=[0,10,100])"
   ]
  },
  {
   "cell_type": "code",
   "execution_count": 74,
   "metadata": {
    "scrolled": false
   },
   "outputs": [
    {
     "data": {
      "text/plain": [
       "<seaborn.axisgrid.FacetGrid at 0x1a297dd4d0>"
      ]
     },
     "execution_count": 74,
     "metadata": {},
     "output_type": "execute_result"
    },
    {
     "data": {
      "image/png": "[encoded data removed]",
      "text/plain": [
       "<Figure size 791x360 with 1 Axes>"
      ]
     },
     "metadata": {
      "needs_background": "light"
     },
     "output_type": "display_data"
    }
   ],
   "source": [
    "#point plot\n",
    "\n",
    "sns.catplot(x='binned_experience', y='Result_Arrest', \\\n",
    "            hue='Black_Driver', kind='point', data=df3, aspect=2)"
   ]
  },
  {
   "cell_type": "code",
   "execution_count": 75,
   "metadata": {},
   "outputs": [
    {
     "data": {
      "text/html": [
       "<div>\n",
       "<style scoped>\n",
       "    .dataframe tbody tr th:only-of-type {\n",
       "        vertical-align: middle;\n",
       "    }\n",
       "\n",
       "    .dataframe tbody tr th {\n",
       "        vertical-align: top;\n",
       "    }\n",
       "\n",
       "    .dataframe thead tr th {\n",
       "        text-align: left;\n",
       "    }\n",
       "\n",
       "    .dataframe thead tr:last-of-type th {\n",
       "        text-align: right;\n",
       "    }\n",
       "</style>\n",
       "<table border=\"1\" class=\"dataframe\">\n",
       "  <thead>\n",
       "    <tr>\n",
       "      <th></th>\n",
       "      <th></th>\n",
       "      <th colspan=\"2\" halign=\"left\">Result_Arrest</th>\n",
       "      <th colspan=\"2\" halign=\"left\">Result_No_Action_Taken</th>\n",
       "    </tr>\n",
       "    <tr>\n",
       "      <th></th>\n",
       "      <th></th>\n",
       "      <th>size</th>\n",
       "      <th>mean</th>\n",
       "      <th>size</th>\n",
       "      <th>mean</th>\n",
       "    </tr>\n",
       "    <tr>\n",
       "      <th>Inexperienced</th>\n",
       "      <th>Black_Driver</th>\n",
       "      <th></th>\n",
       "      <th></th>\n",
       "      <th></th>\n",
       "      <th></th>\n",
       "    </tr>\n",
       "  </thead>\n",
       "  <tbody>\n",
       "    <tr>\n",
       "      <td rowspan=\"2\" valign=\"top\">False</td>\n",
       "      <td>False</td>\n",
       "      <td>16880</td>\n",
       "      <td>0.009360</td>\n",
       "      <td>16880</td>\n",
       "      <td>0.019491</td>\n",
       "    </tr>\n",
       "    <tr>\n",
       "      <td>True</td>\n",
       "      <td>15385</td>\n",
       "      <td>0.015275</td>\n",
       "      <td>15385</td>\n",
       "      <td>0.022814</td>\n",
       "    </tr>\n",
       "    <tr>\n",
       "      <td rowspan=\"2\" valign=\"top\">True</td>\n",
       "      <td>False</td>\n",
       "      <td>17827</td>\n",
       "      <td>0.017165</td>\n",
       "      <td>17827</td>\n",
       "      <td>0.020811</td>\n",
       "    </tr>\n",
       "    <tr>\n",
       "      <td>True</td>\n",
       "      <td>27842</td>\n",
       "      <td>0.032756</td>\n",
       "      <td>27842</td>\n",
       "      <td>0.022197</td>\n",
       "    </tr>\n",
       "  </tbody>\n",
       "</table>\n",
       "</div>"
      ],
      "text/plain": [
       "                           Result_Arrest           Result_No_Action_Taken  \\\n",
       "                                    size      mean                   size   \n",
       "Inexperienced Black_Driver                                                  \n",
       "False         False                16880  0.009360                  16880   \n",
       "              True                 15385  0.015275                  15385   \n",
       "True          False                17827  0.017165                  17827   \n",
       "              True                 27842  0.032756                  27842   \n",
       "\n",
       "                                      \n",
       "                                mean  \n",
       "Inexperienced Black_Driver            \n",
       "False         False         0.019491  \n",
       "              True          0.022814  \n",
       "True          False         0.020811  \n",
       "              True          0.022197  "
      ]
     },
     "execution_count": 75,
     "metadata": {},
     "output_type": "execute_result"
    },
    {
     "name": "stdout",
     "output_type": "stream",
     "text": [
      "Inexperienced: 90.83 % Higher\n",
      "Experienced: 63.19 % Higher\n"
     ]
    }
   ],
   "source": [
    "#Comparison\n",
    "t1 = df3.groupby(['Inexperienced','Black_Driver'])\\\n",
    ".agg({'Result_Arrest' : ['size', 'mean'], 'Result_No_Action_Taken' : ['size', 'mean']})\n",
    "\n",
    "t1\n",
    "\n",
    "Inex_Black = t1.values[3][1]\n",
    "Inex_Other = t1.values[2][1] \n",
    "\n",
    "Ex_Black = t1.values[1][1]\n",
    "Ex_Other = t1.values[0][1]\n",
    "\n",
    "\n",
    "print('Inexperienced:',round(((((Inex_Black - Inex_Other)/Inex_Other)*100)),2),\"%\",'Higher')\n",
    "print('Experienced:',round(((((Ex_Black - Ex_Other)/Ex_Other)*100)),2),\"%\",'Higher')"
   ]
  },
  {
   "cell_type": "markdown",
   "metadata": {},
   "source": [
    "## <div class = \"alert alert-block alert-warning\"> **Summary of Findings** </div>"
   ]
  },
  {
   "cell_type": "markdown",
   "metadata": {},
   "source": [
    "### An inexperienced cop is about twice as likely to arrest a Black driver than a non-Black driver."
   ]
  },
  {
   "cell_type": "markdown",
   "metadata": {},
   "source": [
    "## <div class=\"alert alert-block alert-info\"> Managerial Insight </div>"
   ]
  },
  {
   "cell_type": "markdown",
   "metadata": {},
   "source": [
    "### This trend might be explained by inexperienced officers racially profiling Black drivers. Since the disparity is so large the police department should incorporate more diversity training sessions for their inexperienced police officers or pair those inexperienced police officers with experienced ones when they are on duty to help reduce racial bias for the traffic stops."
   ]
  },
  {
   "cell_type": "markdown",
   "metadata": {},
   "source": [
    "## <div class=\"alert alert-block alert-success\"> DATA FINDING #2 </div>"
   ]
  },
  {
   "cell_type": "code",
   "execution_count": 76,
   "metadata": {
    "scrolled": true
   },
   "outputs": [
    {
     "data": {
      "text/plain": [
       "KMeans(algorithm='auto', copy_x=True, init='k-means++', max_iter=300,\n",
       "       n_clusters=3, n_init=10, n_jobs=None, precompute_distances='auto',\n",
       "       random_state=0, tol=0.0001, verbose=0)"
      ]
     },
     "execution_count": 76,
     "metadata": {},
     "output_type": "execute_result"
    }
   ],
   "source": [
    "#3 clusters\n",
    "\n",
    "from sklearn.cluster import KMeans\n",
    "clu = KMeans(n_clusters=3, random_state=0)\n",
    "clu.fit(dfML)"
   ]
  },
  {
   "cell_type": "code",
   "execution_count": 77,
   "metadata": {
    "scrolled": true
   },
   "outputs": [
    {
     "data": {
      "text/plain": [
       "array([2, 2, 1, 2, 2, 2, 1, 1, 0, 2, 2, 2, 2, 2, 1, 1, 0, 0, 1, 2],\n",
       "      dtype=int32)"
      ]
     },
     "execution_count": 77,
     "metadata": {},
     "output_type": "execute_result"
    }
   ],
   "source": [
    "#first 20 labels\n",
    "\n",
    "clu.labels_[:20]"
   ]
  },
  {
   "cell_type": "code",
   "execution_count": 78,
   "metadata": {},
   "outputs": [
    {
     "data": {
      "text/html": [
       "<div>\n",
       "<style scoped>\n",
       "    .dataframe tbody tr th:only-of-type {\n",
       "        vertical-align: middle;\n",
       "    }\n",
       "\n",
       "    .dataframe tbody tr th {\n",
       "        vertical-align: top;\n",
       "    }\n",
       "\n",
       "    .dataframe thead th {\n",
       "        text-align: right;\n",
       "    }\n",
       "</style>\n",
       "<table border=\"1\" class=\"dataframe\">\n",
       "  <thead>\n",
       "    <tr style=\"text-align: right;\">\n",
       "      <th></th>\n",
       "      <th>Officer_Gender</th>\n",
       "      <th>Officer_Experience</th>\n",
       "      <th>Driver_Hispanic</th>\n",
       "      <th>Driver_Gender</th>\n",
       "      <th>Driver_Age</th>\n",
       "      <th>Searched</th>\n",
       "      <th>Reason_CheckPoint</th>\n",
       "      <th>Reason_Driving_Impaired</th>\n",
       "      <th>Reason_Investigation</th>\n",
       "      <th>Reason_Other</th>\n",
       "      <th>...</th>\n",
       "      <th>Driver_Race_Other/Unknown</th>\n",
       "      <th>Driver_Race_White</th>\n",
       "      <th>Officer_Race_2+</th>\n",
       "      <th>Officer_Race_Native_American</th>\n",
       "      <th>Officer_Race_Asian</th>\n",
       "      <th>Officer_Race_Black</th>\n",
       "      <th>Officer_Race_Hispanic/Latino</th>\n",
       "      <th>Officer_Race_Hawaiian</th>\n",
       "      <th>Officer_Race_Not_Specified</th>\n",
       "      <th>Officer_Race_White</th>\n",
       "    </tr>\n",
       "    <tr>\n",
       "      <th>cluster</th>\n",
       "      <th></th>\n",
       "      <th></th>\n",
       "      <th></th>\n",
       "      <th></th>\n",
       "      <th></th>\n",
       "      <th></th>\n",
       "      <th></th>\n",
       "      <th></th>\n",
       "      <th></th>\n",
       "      <th></th>\n",
       "      <th></th>\n",
       "      <th></th>\n",
       "      <th></th>\n",
       "      <th></th>\n",
       "      <th></th>\n",
       "      <th></th>\n",
       "      <th></th>\n",
       "      <th></th>\n",
       "      <th></th>\n",
       "      <th></th>\n",
       "      <th></th>\n",
       "    </tr>\n",
       "  </thead>\n",
       "  <tbody>\n",
       "    <tr>\n",
       "      <td>0</td>\n",
       "      <td>0.944186</td>\n",
       "      <td>20.370909</td>\n",
       "      <td>0.120582</td>\n",
       "      <td>0.537829</td>\n",
       "      <td>30.389392</td>\n",
       "      <td>0.015969</td>\n",
       "      <td>0.004974</td>\n",
       "      <td>0.001361</td>\n",
       "      <td>0.024399</td>\n",
       "      <td>0.032672</td>\n",
       "      <td>...</td>\n",
       "      <td>0.037332</td>\n",
       "      <td>0.446673</td>\n",
       "      <td>0.000000</td>\n",
       "      <td>0.001361</td>\n",
       "      <td>0.077439</td>\n",
       "      <td>0.178596</td>\n",
       "      <td>0.016702</td>\n",
       "      <td>0.000000</td>\n",
       "      <td>0.004712</td>\n",
       "      <td>0.721190</td>\n",
       "    </tr>\n",
       "    <tr>\n",
       "      <td>1</td>\n",
       "      <td>0.914005</td>\n",
       "      <td>10.879141</td>\n",
       "      <td>0.067581</td>\n",
       "      <td>0.595659</td>\n",
       "      <td>52.553164</td>\n",
       "      <td>0.018963</td>\n",
       "      <td>0.002193</td>\n",
       "      <td>0.001416</td>\n",
       "      <td>0.019922</td>\n",
       "      <td>0.023623</td>\n",
       "      <td>...</td>\n",
       "      <td>0.025040</td>\n",
       "      <td>0.455198</td>\n",
       "      <td>0.000960</td>\n",
       "      <td>0.002422</td>\n",
       "      <td>0.060498</td>\n",
       "      <td>0.180169</td>\n",
       "      <td>0.041444</td>\n",
       "      <td>0.000457</td>\n",
       "      <td>0.006306</td>\n",
       "      <td>0.707745</td>\n",
       "    </tr>\n",
       "    <tr>\n",
       "      <td>2</td>\n",
       "      <td>0.898539</td>\n",
       "      <td>5.385007</td>\n",
       "      <td>0.112612</td>\n",
       "      <td>0.607524</td>\n",
       "      <td>28.392585</td>\n",
       "      <td>0.074127</td>\n",
       "      <td>0.003708</td>\n",
       "      <td>0.001434</td>\n",
       "      <td>0.023681</td>\n",
       "      <td>0.017754</td>\n",
       "      <td>...</td>\n",
       "      <td>0.029093</td>\n",
       "      <td>0.337185</td>\n",
       "      <td>0.001597</td>\n",
       "      <td>0.003681</td>\n",
       "      <td>0.049175</td>\n",
       "      <td>0.158051</td>\n",
       "      <td>0.060677</td>\n",
       "      <td>0.001597</td>\n",
       "      <td>0.011340</td>\n",
       "      <td>0.713884</td>\n",
       "    </tr>\n",
       "  </tbody>\n",
       "</table>\n",
       "<p>3 rows × 34 columns</p>\n",
       "</div>"
      ],
      "text/plain": [
       "         Officer_Gender  Officer_Experience  Driver_Hispanic  Driver_Gender  \\\n",
       "cluster                                                                       \n",
       "0              0.944186           20.370909         0.120582       0.537829   \n",
       "1              0.914005           10.879141         0.067581       0.595659   \n",
       "2              0.898539            5.385007         0.112612       0.607524   \n",
       "\n",
       "         Driver_Age  Searched  Reason_CheckPoint  Reason_Driving_Impaired  \\\n",
       "cluster                                                                     \n",
       "0         30.389392  0.015969           0.004974                 0.001361   \n",
       "1         52.553164  0.018963           0.002193                 0.001416   \n",
       "2         28.392585  0.074127           0.003708                 0.001434   \n",
       "\n",
       "         Reason_Investigation  Reason_Other  ...  Driver_Race_Other/Unknown  \\\n",
       "cluster                                      ...                              \n",
       "0                    0.024399      0.032672  ...                   0.037332   \n",
       "1                    0.019922      0.023623  ...                   0.025040   \n",
       "2                    0.023681      0.017754  ...                   0.029093   \n",
       "\n",
       "         Driver_Race_White  Officer_Race_2+  Officer_Race_Native_American  \\\n",
       "cluster                                                                     \n",
       "0                 0.446673         0.000000                      0.001361   \n",
       "1                 0.455198         0.000960                      0.002422   \n",
       "2                 0.337185         0.001597                      0.003681   \n",
       "\n",
       "         Officer_Race_Asian  Officer_Race_Black  Officer_Race_Hispanic/Latino  \\\n",
       "cluster                                                                         \n",
       "0                  0.077439            0.178596                      0.016702   \n",
       "1                  0.060498            0.180169                      0.041444   \n",
       "2                  0.049175            0.158051                      0.060677   \n",
       "\n",
       "         Officer_Race_Hawaiian  Officer_Race_Not_Specified  Officer_Race_White  \n",
       "cluster                                                                         \n",
       "0                     0.000000                    0.004712            0.721190  \n",
       "1                     0.000457                    0.006306            0.707745  \n",
       "2                     0.001597                    0.011340            0.713884  \n",
       "\n",
       "[3 rows x 34 columns]"
      ]
     },
     "execution_count": 78,
     "metadata": {},
     "output_type": "execute_result"
    }
   ],
   "source": [
    "#add cluster to df2 and groupby \n",
    "\n",
    "df2=pd.DataFrame.copy(dfML)\n",
    "df2['cluster'] = clu.labels_\n",
    "df2.groupby('cluster').mean()"
   ]
  },
  {
   "cell_type": "code",
   "execution_count": 79,
   "metadata": {
    "scrolled": true
   },
   "outputs": [
    {
     "data": {
      "text/html": [
       "<div>\n",
       "<style scoped>\n",
       "    .dataframe tbody tr th:only-of-type {\n",
       "        vertical-align: middle;\n",
       "    }\n",
       "\n",
       "    .dataframe tbody tr th {\n",
       "        vertical-align: top;\n",
       "    }\n",
       "\n",
       "    .dataframe thead tr th {\n",
       "        text-align: left;\n",
       "    }\n",
       "\n",
       "    .dataframe thead tr:last-of-type th {\n",
       "        text-align: right;\n",
       "    }\n",
       "</style>\n",
       "<table border=\"1\" class=\"dataframe\">\n",
       "  <thead>\n",
       "    <tr>\n",
       "      <th></th>\n",
       "      <th></th>\n",
       "      <th colspan=\"2\" halign=\"left\">Searched</th>\n",
       "      <th colspan=\"2\" halign=\"left\">Result_No_Action_Taken</th>\n",
       "    </tr>\n",
       "    <tr>\n",
       "      <th></th>\n",
       "      <th></th>\n",
       "      <th>size</th>\n",
       "      <th>mean</th>\n",
       "      <th>size</th>\n",
       "      <th>mean</th>\n",
       "    </tr>\n",
       "    <tr>\n",
       "      <th>Hispanic_Driver</th>\n",
       "      <th>Young_Driver</th>\n",
       "      <th></th>\n",
       "      <th></th>\n",
       "      <th></th>\n",
       "      <th></th>\n",
       "    </tr>\n",
       "  </thead>\n",
       "  <tbody>\n",
       "    <tr>\n",
       "      <td rowspan=\"2\" valign=\"top\">False</td>\n",
       "      <td>False</td>\n",
       "      <td>65040</td>\n",
       "      <td>0.042482</td>\n",
       "      <td>65040</td>\n",
       "      <td>0.021740</td>\n",
       "    </tr>\n",
       "    <tr>\n",
       "      <td>True</td>\n",
       "      <td>4951</td>\n",
       "      <td>0.080590</td>\n",
       "      <td>4951</td>\n",
       "      <td>0.023228</td>\n",
       "    </tr>\n",
       "    <tr>\n",
       "      <td rowspan=\"2\" valign=\"top\">True</td>\n",
       "      <td>False</td>\n",
       "      <td>6860</td>\n",
       "      <td>0.029883</td>\n",
       "      <td>6860</td>\n",
       "      <td>0.017638</td>\n",
       "    </tr>\n",
       "    <tr>\n",
       "      <td>True</td>\n",
       "      <td>1083</td>\n",
       "      <td>0.084949</td>\n",
       "      <td>1083</td>\n",
       "      <td>0.017544</td>\n",
       "    </tr>\n",
       "  </tbody>\n",
       "</table>\n",
       "</div>"
      ],
      "text/plain": [
       "                             Searched           Result_No_Action_Taken  \\\n",
       "                                 size      mean                   size   \n",
       "Hispanic_Driver Young_Driver                                             \n",
       "False           False           65040  0.042482                  65040   \n",
       "                True             4951  0.080590                   4951   \n",
       "True            False            6860  0.029883                   6860   \n",
       "                True             1083  0.084949                   1083   \n",
       "\n",
       "                                        \n",
       "                                  mean  \n",
       "Hispanic_Driver Young_Driver            \n",
       "False           False         0.021740  \n",
       "                True          0.023228  \n",
       "True            False         0.017638  \n",
       "                True          0.017544  "
      ]
     },
     "execution_count": 79,
     "metadata": {},
     "output_type": "execute_result"
    }
   ],
   "source": [
    "#add column for young drivers and groupby Black and Young drivers and look at the rate they were searched\n",
    "\n",
    "df3= df2.copy()\n",
    "df3['Hispanic_Driver']=(df3['Driver_Hispanic']>=.5)\n",
    "df3['Black_Driver']=(df3['Driver_Race_Black']>=.5)\n",
    "df3['Young_Driver']=(df3['Driver_Age']<=20)\n",
    "df3.groupby(['Hispanic_Driver', 'Young_Driver']).agg({'Searched' : ['size', 'mean'], 'Result_No_Action_Taken' : ['size', 'mean']})"
   ]
  },
  {
   "cell_type": "code",
   "execution_count": 80,
   "metadata": {
    "scrolled": false
   },
   "outputs": [
    {
     "data": {
      "text/plain": [
       "<seaborn.axisgrid.FacetGrid at 0x1a2a48d190>"
      ]
     },
     "execution_count": 80,
     "metadata": {},
     "output_type": "execute_result"
    },
    {
     "data": {
      "image/png": "[encoded data removed]",
      "text/plain": [
       "<Figure size 794.984x360 with 1 Axes>"
      ]
     },
     "metadata": {
      "needs_background": "light"
     },
     "output_type": "display_data"
    }
   ],
   "source": [
    "#bar plot\n",
    "\n",
    "sns.catplot(x='Hispanic_Driver', y='Searched', hue='Young_Driver', data=df3, kind='bar', aspect=2)"
   ]
  },
  {
   "cell_type": "code",
   "execution_count": 81,
   "metadata": {},
   "outputs": [
    {
     "data": {
      "text/plain": [
       "<seaborn.axisgrid.FacetGrid at 0x1a308edb50>"
      ]
     },
     "execution_count": 81,
     "metadata": {},
     "output_type": "execute_result"
    },
    {
     "data": {
      "image/png": "[encoded data removed]",
      "text/plain": [
       "<Figure size 794.984x360 with 1 Axes>"
      ]
     },
     "metadata": {
      "needs_background": "light"
     },
     "output_type": "display_data"
    }
   ],
   "source": [
    "#point plot\n",
    "\n",
    "sns.catplot(x='Black_Driver', y='Searched', \\\n",
    "            hue='Young_Driver', kind='bar', data=df3, aspect=2)"
   ]
  },
  {
   "cell_type": "markdown",
   "metadata": {},
   "source": [
    "## <div class = \"alert alert-block alert-warning\"> **Summary of Findings** </div>"
   ]
  },
  {
   "cell_type": "markdown",
   "metadata": {},
   "source": [
    "### Young drivers are about 2x more likely to be searched in general. Black young driver is about 2x more likely than a non-Black  young driver whereas a young hispanic driver is searched at the same rate as a non-hispanic driver."
   ]
  },
  {
   "cell_type": "markdown",
   "metadata": {},
   "source": [
    "## <div class=\"alert alert-block alert-info\"> Managerial Insight </div>"
   ]
  },
  {
   "cell_type": "markdown",
   "metadata": {},
   "source": [
    "### We should look to incorporate more educational lessons and requirements regarding traffic laws and safety for drivers getting their licenses since young drivers are being searched two times more than older drivers which indicates younger drivers might not be as disciplined and educated about traffic and driving laws. It is also interesting to note that hispanic drivers are not searched at an increased rate like black drivers are. With that we should also look to incorporate diversity training to eliminate racial biases towards Black drivers over non-Black drivers as it appears to possibly be a factor when they are twice more likely to be searched by police officers."
   ]
  },
  {
   "cell_type": "markdown",
   "metadata": {},
   "source": [
    "## <div class=\"alert alert-block alert-success\"> DATA FINDING #3 </div>"
   ]
  },
  {
   "cell_type": "markdown",
   "metadata": {},
   "source": [
    "### We want to use a regression decision tree to figure out the average officer experience based on what reason they pull a driver over and what the result of that traffic stop is"
   ]
  },
  {
   "cell_type": "code",
   "execution_count": 82,
   "metadata": {},
   "outputs": [],
   "source": [
    "#dependent variable is officer experience\n",
    "X = dfML.drop('Officer_Experience',axis=1)\n",
    "\n",
    "Y = dfML.Officer_Experience"
   ]
  },
  {
   "cell_type": "code",
   "execution_count": 83,
   "metadata": {},
   "outputs": [],
   "source": [
    "dt = sklearn.tree.DecisionTreeRegressor(max_depth = 2)"
   ]
  },
  {
   "cell_type": "code",
   "execution_count": 84,
   "metadata": {},
   "outputs": [
    {
     "data": {
      "text/plain": [
       "DecisionTreeRegressor(criterion='mse', max_depth=2, max_features=None,\n",
       "                      max_leaf_nodes=None, min_impurity_decrease=0.0,\n",
       "                      min_impurity_split=None, min_samples_leaf=1,\n",
       "                      min_samples_split=2, min_weight_fraction_leaf=0.0,\n",
       "                      presort=False, random_state=None, splitter='best')"
      ]
     },
     "execution_count": 84,
     "metadata": {},
     "output_type": "execute_result"
    }
   ],
   "source": [
    "#fit the X and Y to the decision tree\n",
    "dt.fit(X,Y)"
   ]
  },
  {
   "cell_type": "code",
   "execution_count": 85,
   "metadata": {},
   "outputs": [
    {
     "data": {
      "image/png": "[encoded data removed]",
      "text/plain": [
       "<IPython.core.display.Image object>"
      ]
     },
     "execution_count": 85,
     "metadata": {},
     "output_type": "execute_result"
    }
   ],
   "source": [
    "#print out the decision tree\n",
    "\n",
    "dt_feature_names = list(X.columns)\n",
    "dt_target_names = np.array(Y.unique(),dtype=np.string_) \n",
    "tree.export_graphviz(dt, out_file='tree.dot', \n",
    "    feature_names=dt_feature_names, class_names=dt_target_names,\n",
    "    filled=True)  \n",
    "graph = pydotplus.graph_from_dot_file('tree.dot')\n",
    "Image(graph.create_png())"
   ]
  },
  {
   "cell_type": "markdown",
   "metadata": {},
   "source": [
    "### This decision tree shows that less experienced officers give more verbal warnings"
   ]
  },
  {
   "cell_type": "code",
   "execution_count": 96,
   "metadata": {},
   "outputs": [],
   "source": [
    "#we want to create a new dataframe and groupby to support the tree more clearly\n",
    "\n",
    "dfS = df[(df.Result == 'Verbal Warning') | (df.Result == 'Written Warning')]"
   ]
  },
  {
   "cell_type": "code",
   "execution_count": 130,
   "metadata": {},
   "outputs": [
    {
     "data": {
      "text/plain": [
       "array(['Verbal Warning', 'Written Warning'], dtype=object)"
      ]
     },
     "execution_count": 130,
     "metadata": {},
     "output_type": "execute_result"
    }
   ],
   "source": [
    "#check the condition above \n",
    "\n",
    "dfS.Result.unique()"
   ]
  },
  {
   "cell_type": "code",
   "execution_count": 131,
   "metadata": {},
   "outputs": [],
   "source": [
    "# create new column for speeding\n",
    "\n",
    "dfS['Speeding'] = dfS.Reason == 'Speeding'"
   ]
  },
  {
   "cell_type": "code",
   "execution_count": 132,
   "metadata": {},
   "outputs": [
    {
     "data": {
      "text/plain": [
       "Speeding  Result         \n",
       "False     Verbal Warning      8.534159\n",
       "          Written Warning    14.083026\n",
       "True      Verbal Warning     12.058872\n",
       "          Written Warning    19.647776\n",
       "Name: Officer_Experience, dtype: float64"
      ]
     },
     "execution_count": 132,
     "metadata": {},
     "output_type": "execute_result"
    }
   ],
   "source": [
    "#groupby new dataframe\n",
    "\n",
    "dfS1 = dfS.groupby(['Speeding', 'Result'])['Officer_Experience'].mean()\n",
    "dfS1"
   ]
  },
  {
   "cell_type": "code",
   "execution_count": 128,
   "metadata": {},
   "outputs": [
    {
     "name": "stdout",
     "output_type": "stream",
     "text": [
      "The percent change for non-speeding traffic stops: 65.01948482022284\n",
      "The percent change for speeding traffic stops: 62.93212280156772\n"
     ]
    }
   ],
   "source": [
    "#for speeding traffic stops, find the percent difference in age for verbal vs written warnings\n",
    "\n",
    "print('The percent change for non-speeding traffic stops: '+ str(((dfS1.iloc[1]-dfS1.iloc[0])/dfS1.iloc[0])*100))\n",
    "print('The percent change for speeding traffic stops: '+ str(((dfS1.iloc[3]-dfS1.iloc[2])/dfS1.iloc[2])*100))"
   ]
  },
  {
   "cell_type": "markdown",
   "metadata": {},
   "source": [
    "### The change in officer experience for verbal and written warnings is very significant at over 60% for both speeding and non-speeding violations"
   ]
  },
  {
   "cell_type": "code",
   "execution_count": 129,
   "metadata": {},
   "outputs": [
    {
     "data": {
      "text/plain": [
       "<seaborn.axisgrid.FacetGrid at 0x1a2fc4aad0>"
      ]
     },
     "execution_count": 129,
     "metadata": {},
     "output_type": "execute_result"
    },
    {
     "data": {
      "image/png": "[encoded data removed]",
      "text/plain": [
       "<Figure size 422.125x360 with 1 Axes>"
      ]
     },
     "metadata": {
      "needs_background": "light"
     },
     "output_type": "display_data"
    }
   ],
   "source": [
    "#plot the findings of the decision tree and groupby\n",
    "\n",
    "sns.catplot(x='Result', y='Officer_Experience',\\\n",
    "            kind='bar',hue='Speeding', data=dfS, aspect=1)"
   ]
  },
  {
   "cell_type": "markdown",
   "metadata": {},
   "source": [
    "## <div class = \"alert alert-block alert-warning\"> **Summary of Findings** </div>"
   ]
  },
  {
   "cell_type": "markdown",
   "metadata": {},
   "source": [
    "### More experienced cops give more written warnings. Less experienced cops give more verbal warnings."
   ]
  },
  {
   "cell_type": "markdown",
   "metadata": {},
   "source": [
    "## <div class=\"alert alert-block alert-info\"> Managerial Insight </div>"
   ]
  },
  {
   "cell_type": "markdown",
   "metadata": {},
   "source": [
    "### Less experienced cops are giving out more verbal warnings versus written warnings as compared to more experienced officers. You would expect less experienced officers to give more written warnings as they want to test their authority earlier on in their career. But it seems less experienced officers may be letting drivers off too easily and the police department should implement more training and guidelines for less experienced officers to make sure they correctly deal with certain traffic violations."
   ]
  },
  {
   "cell_type": "code",
   "execution_count": null,
   "metadata": {},
   "outputs": [],
   "source": []
  }
 ],
 "metadata": {
  "kernelspec": {
   "display_name": "Python 3",
   "language": "python",
   "name": "python3"
  },
  "language_info": {
   "codemirror_mode": {
    "name": "ipython",
    "version": 3
   },
   "file_extension": ".py",
   "mimetype": "text/x-python",
   "name": "python",
   "nbconvert_exporter": "python",
   "pygments_lexer": "ipython3",
   "version": "3.7.6"
  }
 },
 "nbformat": 4,
 "nbformat_minor": 2
}
